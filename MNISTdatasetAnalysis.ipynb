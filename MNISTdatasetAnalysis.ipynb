{
 "cells": [
  {
   "cell_type": "code",
   "execution_count": 1,
   "id": "943e60a6-de7f-4256-aae8-7e837ce33fbf",
   "metadata": {},
   "outputs": [
    {
     "name": "stderr",
     "output_type": "stream",
     "text": [
      "C:\\Users\\vishw\\anaconda3\\Lib\\site-packages\\sklearn\\datasets\\_openml.py:968: FutureWarning: The default value of `parser` will change from `'liac-arff'` to `'auto'` in 1.4. You can set `parser='auto'` to silence this warning. Therefore, an `ImportError` will be raised from 1.4 if the dataset is dense and pandas is not installed. Note that the pandas parser may return different data types. See the Notes Section in fetch_openml's API doc for details.\n",
      "  warn(\n"
     ]
    },
    {
     "data": {
      "text/plain": [
       "dict_keys(['data', 'target', 'frame', 'categories', 'feature_names', 'target_names', 'DESCR', 'details', 'url'])"
      ]
     },
     "execution_count": 1,
     "metadata": {},
     "output_type": "execute_result"
    }
   ],
   "source": [
    "#importing the MNIST dataset to understand classification models\n",
    "from sklearn.datasets import fetch_openml\n",
    "mnist = fetch_openml('mnist_784', version =1)\n",
    "mnist.keys()"
   ]
  },
  {
   "cell_type": "code",
   "execution_count": 2,
   "id": "2c0c9071-18af-4c7a-a990-5806b9bd8372",
   "metadata": {},
   "outputs": [
    {
     "name": "stdout",
     "output_type": "stream",
     "text": [
      "(70000, 784) (70000,)\n"
     ]
    }
   ],
   "source": [
    "X,y = mnist['data'], mnist['target']\n",
    "print(X.shape, y.shape)"
   ]
  },
  {
   "cell_type": "markdown",
   "id": "a9cf6f2b-555f-4f1d-8ffe-5875b0ab51fc",
   "metadata": {},
   "source": [
    "Each row contains intensity of an 28*28 = 784 pixels which can be used to depict images of handwritten digits form 0 to 9"
   ]
  },
  {
   "cell_type": "code",
   "execution_count": 3,
   "id": "00b64360-f748-4ae1-9fd9-90bcdf6fede7",
   "metadata": {},
   "outputs": [
    {
     "data": {
      "text/plain": [
       "class\n",
       "1    7877\n",
       "7    7293\n",
       "3    7141\n",
       "2    6990\n",
       "9    6958\n",
       "0    6903\n",
       "6    6876\n",
       "8    6825\n",
       "4    6824\n",
       "5    6313\n",
       "Name: count, dtype: int64"
      ]
     },
     "execution_count": 3,
     "metadata": {},
     "output_type": "execute_result"
    }
   ],
   "source": [
    "y.value_counts() "
   ]
  },
  {
   "cell_type": "code",
   "execution_count": 4,
   "id": "c04e0887-1e2b-4dea-a802-92e2c10a34a2",
   "metadata": {},
   "outputs": [],
   "source": [
    "y=y.astype('int')"
   ]
  },
  {
   "cell_type": "markdown",
   "id": "1c992cef-697d-48b4-946d-0bb68d51474c",
   "metadata": {},
   "source": [
    "The data can be interpreted as homogenous "
   ]
  },
  {
   "cell_type": "code",
   "execution_count": 5,
   "id": "a8319558-97ca-48da-9552-05087f95f2a7",
   "metadata": {},
   "outputs": [],
   "source": [
    "#let us split the dataset into train and test set before any further analysis. This dataset available at sklearn is already divided into stratified samples for training and testing with shuffling of index.\n",
    "X_train, X_test, y_train, y_test = X[:60000],X[60000:],y[:60000],y[:60000]\n"
   ]
  },
  {
   "cell_type": "code",
   "execution_count": 6,
   "id": "4a9cd461-5fe9-42a1-bd50-69d3605e8682",
   "metadata": {},
   "outputs": [],
   "source": [
    "#let's start by training a binary classifier on the dataset\n",
    "y_train_5 = (y_train == 5)\n",
    "y_test_5 = (y_test == 5)"
   ]
  },
  {
   "cell_type": "code",
   "execution_count": 7,
   "id": "d4d339e5-9c0a-4930-b0e7-83d6b3724ebd",
   "metadata": {},
   "outputs": [
    {
     "data": {
      "text/html": [
       "<style>#sk-container-id-1 {color: black;background-color: white;}#sk-container-id-1 pre{padding: 0;}#sk-container-id-1 div.sk-toggleable {background-color: white;}#sk-container-id-1 label.sk-toggleable__label {cursor: pointer;display: block;width: 100%;margin-bottom: 0;padding: 0.3em;box-sizing: border-box;text-align: center;}#sk-container-id-1 label.sk-toggleable__label-arrow:before {content: \"▸\";float: left;margin-right: 0.25em;color: #696969;}#sk-container-id-1 label.sk-toggleable__label-arrow:hover:before {color: black;}#sk-container-id-1 div.sk-estimator:hover label.sk-toggleable__label-arrow:before {color: black;}#sk-container-id-1 div.sk-toggleable__content {max-height: 0;max-width: 0;overflow: hidden;text-align: left;background-color: #f0f8ff;}#sk-container-id-1 div.sk-toggleable__content pre {margin: 0.2em;color: black;border-radius: 0.25em;background-color: #f0f8ff;}#sk-container-id-1 input.sk-toggleable__control:checked~div.sk-toggleable__content {max-height: 200px;max-width: 100%;overflow: auto;}#sk-container-id-1 input.sk-toggleable__control:checked~label.sk-toggleable__label-arrow:before {content: \"▾\";}#sk-container-id-1 div.sk-estimator input.sk-toggleable__control:checked~label.sk-toggleable__label {background-color: #d4ebff;}#sk-container-id-1 div.sk-label input.sk-toggleable__control:checked~label.sk-toggleable__label {background-color: #d4ebff;}#sk-container-id-1 input.sk-hidden--visually {border: 0;clip: rect(1px 1px 1px 1px);clip: rect(1px, 1px, 1px, 1px);height: 1px;margin: -1px;overflow: hidden;padding: 0;position: absolute;width: 1px;}#sk-container-id-1 div.sk-estimator {font-family: monospace;background-color: #f0f8ff;border: 1px dotted black;border-radius: 0.25em;box-sizing: border-box;margin-bottom: 0.5em;}#sk-container-id-1 div.sk-estimator:hover {background-color: #d4ebff;}#sk-container-id-1 div.sk-parallel-item::after {content: \"\";width: 100%;border-bottom: 1px solid gray;flex-grow: 1;}#sk-container-id-1 div.sk-label:hover label.sk-toggleable__label {background-color: #d4ebff;}#sk-container-id-1 div.sk-serial::before {content: \"\";position: absolute;border-left: 1px solid gray;box-sizing: border-box;top: 0;bottom: 0;left: 50%;z-index: 0;}#sk-container-id-1 div.sk-serial {display: flex;flex-direction: column;align-items: center;background-color: white;padding-right: 0.2em;padding-left: 0.2em;position: relative;}#sk-container-id-1 div.sk-item {position: relative;z-index: 1;}#sk-container-id-1 div.sk-parallel {display: flex;align-items: stretch;justify-content: center;background-color: white;position: relative;}#sk-container-id-1 div.sk-item::before, #sk-container-id-1 div.sk-parallel-item::before {content: \"\";position: absolute;border-left: 1px solid gray;box-sizing: border-box;top: 0;bottom: 0;left: 50%;z-index: -1;}#sk-container-id-1 div.sk-parallel-item {display: flex;flex-direction: column;z-index: 1;position: relative;background-color: white;}#sk-container-id-1 div.sk-parallel-item:first-child::after {align-self: flex-end;width: 50%;}#sk-container-id-1 div.sk-parallel-item:last-child::after {align-self: flex-start;width: 50%;}#sk-container-id-1 div.sk-parallel-item:only-child::after {width: 0;}#sk-container-id-1 div.sk-dashed-wrapped {border: 1px dashed gray;margin: 0 0.4em 0.5em 0.4em;box-sizing: border-box;padding-bottom: 0.4em;background-color: white;}#sk-container-id-1 div.sk-label label {font-family: monospace;font-weight: bold;display: inline-block;line-height: 1.2em;}#sk-container-id-1 div.sk-label-container {text-align: center;}#sk-container-id-1 div.sk-container {/* jupyter's `normalize.less` sets `[hidden] { display: none; }` but bootstrap.min.css set `[hidden] { display: none !important; }` so we also need the `!important` here to be able to override the default hidden behavior on the sphinx rendered scikit-learn.org. See: https://github.com/scikit-learn/scikit-learn/issues/21755 */display: inline-block !important;position: relative;}#sk-container-id-1 div.sk-text-repr-fallback {display: none;}</style><div id=\"sk-container-id-1\" class=\"sk-top-container\"><div class=\"sk-text-repr-fallback\"><pre>SGDClassifier()</pre><b>In a Jupyter environment, please rerun this cell to show the HTML representation or trust the notebook. <br />On GitHub, the HTML representation is unable to render, please try loading this page with nbviewer.org.</b></div><div class=\"sk-container\" hidden><div class=\"sk-item\"><div class=\"sk-estimator sk-toggleable\"><input class=\"sk-toggleable__control sk-hidden--visually\" id=\"sk-estimator-id-1\" type=\"checkbox\" checked><label for=\"sk-estimator-id-1\" class=\"sk-toggleable__label sk-toggleable__label-arrow\">SGDClassifier</label><div class=\"sk-toggleable__content\"><pre>SGDClassifier()</pre></div></div></div></div></div>"
      ],
      "text/plain": [
       "SGDClassifier()"
      ]
     },
     "execution_count": 7,
     "metadata": {},
     "output_type": "execute_result"
    }
   ],
   "source": [
    "#We will use a Stochastics gradient descent classifier since it is fast\n",
    "from sklearn.linear_model import SGDClassifier\n",
    "sgd_classifier = SGDClassifier()\n",
    "sgd_classifier.fit(X_train, y_train_5)\n"
   ]
  },
  {
   "cell_type": "code",
   "execution_count": 8,
   "id": "7d4d02a3-7f9c-47d3-8b3b-ca637066506e",
   "metadata": {},
   "outputs": [
    {
     "data": {
      "text/plain": [
       "array([0.96716667, 0.97008333, 0.96591667, 0.95183333, 0.95808333])"
      ]
     },
     "execution_count": 8,
     "metadata": {},
     "output_type": "execute_result"
    }
   ],
   "source": [
    "#let us measure the accuracy of this model using cross-validation\n",
    "from sklearn.model_selection import cross_val_score\n",
    "cross_val_score(sgd_classifier, X_train, y_train_5, cv=5,scoring='accuracy' )"
   ]
  },
  {
   "cell_type": "markdown",
   "id": "04bab65d-6da8-453c-81f5-2913b81c727a",
   "metadata": {},
   "source": [
    "Our model is providing a pretty much good accuray across all the 5 samples. But we will find out that accuracy does'nt depict the real performance of our classifier since there is huge class imbalance in target column y_train_5."
   ]
  },
  {
   "cell_type": "code",
   "execution_count": 9,
   "id": "36bd8039-6447-4bed-8490-3766d7b79d2a",
   "metadata": {},
   "outputs": [],
   "source": [
    "#let's create a function to calculate cross_validation score such that each sample taken is stratified, therefore representing the dataset in a better way.\n",
    "from sklearn.model_selection import StratifiedKFold\n",
    "from sklearn.base import clone\n",
    "\n",
    "def cross_validate_accuracy(model, cv, X,y):\n",
    "    skf = StratifiedKFold(n_splits =cv)\n",
    "    accuracy = []\n",
    "    for train_index, test_index in skf.split(X,y):\n",
    "        model = clone(model) #to create a clone of the model, forgetting every parameter it has learned except the hyperparameter specified.\n",
    "        X_train_fold = X.iloc[train_index] #will return one training fold each time the loop is executed using the stratified train index\n",
    "        y_train_fold =y.iloc[train_index]\n",
    "        X_test_fold = X.iloc[test_index]\n",
    "        y_test_fold = y.iloc[test_index]\n",
    "        model.fit(X_train_fold, y_train_fold)\n",
    "        predicted = model.predict(X_test_fold)\n",
    "        acc = sum(y_test_fold == predicted)/len(y_test_fold)\n",
    "        accuracy.append(acc)\n",
    "    return accuracy"
   ]
  },
  {
   "cell_type": "code",
   "execution_count": 10,
   "id": "80c03559-b8ef-4f1a-869a-36ad3c38228d",
   "metadata": {},
   "outputs": [
    {
     "name": "stdout",
     "output_type": "stream",
     "text": [
      "[0.97175, 0.96325, 0.9600833333333333, 0.93825, 0.9624166666666667]\n"
     ]
    }
   ],
   "source": [
    "print(cross_validate_accuracy(sgd_classifier, 5, X_train, y_train_5))"
   ]
  },
  {
   "cell_type": "markdown",
   "id": "bf8ff8d7-a30d-478a-b24e-4713b6d22304",
   "metadata": {},
   "source": [
    "We can observe that the accuracy is great, but maybe we are not able to see the full picture here. We will use confusion matrix to observe the full picture of our classification problem."
   ]
  },
  {
   "cell_type": "code",
   "execution_count": 11,
   "id": "7fcefbf1-9ee2-497b-ba38-a0df6ae7f21c",
   "metadata": {},
   "outputs": [],
   "source": [
    "from sklearn.model_selection import cross_val_predict\n",
    "y_train_pred = cross_val_predict(sgd_classifier, X_train, y_train_5, cv=3)"
   ]
  },
  {
   "cell_type": "code",
   "execution_count": 12,
   "id": "e9b42b94-eb7d-46ea-8382-b13cfbd4b564",
   "metadata": {},
   "outputs": [
    {
     "data": {
      "text/plain": [
       "array([[54028,   551],\n",
       "       [ 1486,  3935]], dtype=int64)"
      ]
     },
     "execution_count": 12,
     "metadata": {},
     "output_type": "execute_result"
    }
   ],
   "source": [
    "from sklearn.metrics import confusion_matrix\n",
    "cm=confusion_matrix(y_train_5, y_train_pred)\n",
    "cm"
   ]
  },
  {
   "cell_type": "code",
   "execution_count": 13,
   "id": "feccb1bb-e18f-4112-9855-6176c900ce24",
   "metadata": {},
   "outputs": [
    {
     "name": "stdout",
     "output_type": "stream",
     "text": [
      "precision 0.8771734284440481 recall 0.7258808337945029\n"
     ]
    }
   ],
   "source": [
    "#let us assign these four numbers to their respective variables with a correct representation.\n",
    "true_negative = cm[0][0]\n",
    "false_positive = cm[0][1]\n",
    "false_negative = cm[1][0]\n",
    "true_positive = cm[1][1]\n",
    "precision = true_positive/(true_positive+false_positive) #how many of predicted positives are actually positives\n",
    "recall = true_positive/(true_positive+false_negative) #out of all actual positives how many was our predictor able to classify correct\n",
    "#recall is also called sensitivity or true positive rate\n",
    "#let us calculate precision and recall\n",
    "print('precision',precision,'recall',recall)"
   ]
  },
  {
   "cell_type": "code",
   "execution_count": 14,
   "id": "a5495798-7df6-45ba-813f-4b898ebb1e2f",
   "metadata": {},
   "outputs": [
    {
     "name": "stdout",
     "output_type": "stream",
     "text": [
      "0.8771734284440481\n",
      "0.7258808337945029\n"
     ]
    }
   ],
   "source": [
    "#let us see how we can use sklearn to calculate these metrics\n",
    "from sklearn.metrics import precision_score, recall_score\n",
    "print(precision_score(y_train_5, y_pred=y_train_pred))\n",
    "print(recall_score(y_train_5, y_train_pred))"
   ]
  },
  {
   "cell_type": "markdown",
   "id": "60240338-911b-460e-bd41-40a33205ac0e",
   "metadata": {},
   "source": [
    "We can observe that the scores calculated by sklearn are similar."
   ]
  },
  {
   "cell_type": "code",
   "execution_count": 15,
   "id": "e837450f-24a8-4c23-b887-95dd2a378076",
   "metadata": {},
   "outputs": [
    {
     "name": "stdout",
     "output_type": "stream",
     "text": [
      "0.7943878066013929\n"
     ]
    }
   ],
   "source": [
    "#it is often convenient to take the harmonic mean of precision score and recall score to get an average idea of overall performance of the model.\n",
    "f1_score=((2*precision*recall)/(precision+recall))\n",
    "print(f1_score)"
   ]
  },
  {
   "cell_type": "markdown",
   "id": "c3efdab8-3d64-4318-85a6-86df1c6e7936",
   "metadata": {},
   "source": [
    "We need to understand that there is a tradeoff between precision and recall \n",
    "#### Increasing precision decreases recall\n",
    "In the above case we got the final prediction but we can also get the scores if we use the `decision_function()` method of SGDClassifier. Now we will use the scores and manipulate the threshold to get an understanding of the tradeoff between precision and recall."
   ]
  },
  {
   "cell_type": "code",
   "execution_count": 16,
   "id": "ce720f77-9b95-4127-8aa9-05aab60fe3f9",
   "metadata": {},
   "outputs": [],
   "source": [
    "#the default threshold for SGDClassifier is zero\n",
    "y_train_scores = cross_val_predict(sgd_classifier, X_train, y_train_5, cv=3, method='decision_function')\n",
    "import matplotlib.pyplot as plt\n",
    "#Now with these scores we can compute precision, recall for all thresholds using the sklearn function\n",
    "from sklearn.metrics import precision_recall_curve\n",
    "precisions, recalls, thresholds = precision_recall_curve(y_train_5, y_train_scores)"
   ]
  },
  {
   "cell_type": "code",
   "execution_count": 22,
   "id": "f9291848-2b48-4a07-b9e7-d9efbd950079",
   "metadata": {},
   "outputs": [
    {
     "data": {
      "image/png": "[encoded data removed]",
      "text/plain": [
       "<Figure size 1000x500 with 1 Axes>"
      ]
     },
     "metadata": {},
     "output_type": "display_data"
    }
   ],
   "source": [
    "plt.figure(figsize=(10,5))\n",
    "plt.plot(thresholds, precisions[:-1], 'bo', label='precision')\n",
    "plt.plot(thresholds, recalls[:-1], 'r+', label = 'recall')\n",
    "plt.legend()\n",
    "plt.xlabel(\"Threshold\")\n",
    "plt.ylabel(\"precision/recall\")\n",
    "plt.show()"
   ]
  },
  {
   "cell_type": "markdown",
   "id": "679fda79-ec0b-41cd-8e21-d1b43419c86f",
   "metadata": {},
   "source": [
    "### Let's try to understand in more detail the tradeoff between Precision/Recall or Sensitivity and specificity"
   ]
  },
  {
   "cell_type": "code",
   "execution_count": 25,
   "id": "988f9b78-0a46-45f8-ab5c-efca2ef3b219",
   "metadata": {},
   "outputs": [
    {
     "data": {
      "image/png": "[encoded data removed]",
      "text/plain": [
       "<Figure size 640x480 with 1 Axes>"
      ]
     },
     "metadata": {},
     "output_type": "display_data"
    }
   ],
   "source": [
    "#Another way of evaluating the model is plotting precision against recall.\n",
    "plt.plot(precisions, recalls)\n",
    "plt.xlabel(\"Precision\")\n",
    "plt.ylabel(\"Recall\")\n",
    "plt.show()"
   ]
  },
  {
   "cell_type": "markdown",
   "id": "05032537-63ea-43ec-aa99-7d01182b59d5",
   "metadata": {},
   "source": [
    "Let's see how we can use these curves to find a threshold which provides 90% precision with the maximum recall we can get at this presision"
   ]
  },
  {
   "cell_type": "code",
   "execution_count": 26,
   "id": "1a6ae899-688a-4ac7-8716-63b805934199",
   "metadata": {},
   "outputs": [
    {
     "name": "stdout",
     "output_type": "stream",
     "text": [
      "0.9001438848920863\n",
      "0.5770153108282605\n"
     ]
    }
   ],
   "source": [
    "import numpy as np\n",
    "threshold_90_precision = thresholds[np.argmax(precisions>=0.90)]\n",
    "#using this threshold to predict the classes.\n",
    "y_train_pred_90 = (y_train_scores>= threshold_90_precision).astype('int')\n",
    "#lets check the precision and recall score\n",
    "print(precision_score(y_train_5, y_train_pred_90))\n",
    "print(recall_score(y_train_5, y_train_pred_90))"
   ]
  },
  {
   "cell_type": "markdown",
   "id": "d6ce0bcd-e8ae-4933-9da3-ac0aafb62b74",
   "metadata": {},
   "source": [
    "## The Reciever Operating Characteristic curve\n",
    "It plots the True positive rate/recall against the false positive rate"
   ]
  },
  {
   "cell_type": "code",
   "execution_count": 28,
   "id": "7e3f821c-1ca2-46c6-8b36-e89a55f519c4",
   "metadata": {},
   "outputs": [
    {
     "data": {
      "image/png": "[encoded data removed]",
      "text/plain": [
       "<Figure size 640x480 with 1 Axes>"
      ]
     },
     "metadata": {},
     "output_type": "display_data"
    }
   ],
   "source": [
    "from sklearn.metrics import roc_curve\n",
    "fpr, tpr, thresholds = roc_curve(y_train_5, y_train_scores)\n",
    "plt.plot(fpr, tpr, linewidth =2)\n",
    "plt.plot([0,1],[0,1], 'k--')\n",
    "plt.xlabel(\"False Positive rate\")\n",
    "plt.ylabel(\"True Positive rate\")\n",
    "plt.show()\n"
   ]
  },
  {
   "cell_type": "code",
   "execution_count": 30,
   "id": "f210aaa4-70c2-47b7-8224-6aea605738c9",
   "metadata": {},
   "outputs": [
    {
     "name": "stdout",
     "output_type": "stream",
     "text": [
      "0.9496355729051758\n"
     ]
    }
   ],
   "source": [
    "#One way to compare the classifiers is to measure the area under the curve(AUC).\n",
    "from sklearn.metrics import roc_auc_score\n",
    "print(roc_auc_score(y_train_5, y_train_scores))"
   ]
  },
  {
   "cell_type": "markdown",
   "id": "13dd2cb4-029a-4b7a-bc28-e329773fcd64",
   "metadata": {},
   "source": [
    "Looking at this ROC curve you may think that the classifier is really good. But this is mostly because there are few positives compared to the negatives . In contrast, the PR curve makes it clear that the classifier has room for improvement."
   ]
  },
  {
   "cell_type": "markdown",
   "id": "d5a0c173-1dce-460b-be17-46c0d85b8aeb",
   "metadata": {},
   "source": [
    "Let's try using a stronger classifier and compare it using the metrics we just studied"
   ]
  },
  {
   "cell_type": "code",
   "execution_count": 31,
   "id": "7f5b77b7-1a25-4900-92f6-2cab7b869cf8",
   "metadata": {},
   "outputs": [],
   "source": [
    "from sklearn.ensemble import RandomForestClassifier"
   ]
  },
  {
   "cell_type": "code",
   "execution_count": 32,
   "id": "dbf7bd56-1aef-4c57-932f-6262db19834f",
   "metadata": {},
   "outputs": [
    {
     "name": "stderr",
     "output_type": "stream",
     "text": [
      "[Parallel(n_jobs=1)]: Using backend SequentialBackend with 1 concurrent workers.\n"
     ]
    },
    {
     "name": "stdout",
     "output_type": "stream",
     "text": [
      "building tree 1 of 100\n"
     ]
    },
    {
     "name": "stderr",
     "output_type": "stream",
     "text": [
      "[Parallel(n_jobs=1)]: Done   1 out of   1 | elapsed:    0.2s remaining:    0.0s\n"
     ]
    },
    {
     "name": "stdout",
     "output_type": "stream",
     "text": [
      "building tree 2 of 100\n",
      "building tree 3 of 100\n",
      "building tree 4 of 100\n",
      "building tree 5 of 100\n",
      "building tree 6 of 100\n",
      "building tree 7 of 100\n",
      "building tree 8 of 100\n",
      "building tree 9 of 100\n",
      "building tree 10 of 100\n",
      "building tree 11 of 100\n",
      "building tree 12 of 100\n",
      "building tree 13 of 100\n",
      "building tree 14 of 100\n",
      "building tree 15 of 100\n",
      "building tree 16 of 100\n",
      "building tree 17 of 100\n",
      "building tree 18 of 100\n",
      "building tree 19 of 100\n",
      "building tree 20 of 100\n",
      "building tree 21 of 100\n",
      "building tree 22 of 100\n",
      "building tree 23 of 100\n",
      "building tree 24 of 100\n",
      "building tree 25 of 100\n",
      "building tree 26 of 100\n",
      "building tree 27 of 100\n",
      "building tree 28 of 100\n",
      "building tree 29 of 100\n",
      "building tree 30 of 100\n",
      "building tree 31 of 100\n",
      "building tree 32 of 100\n",
      "building tree 33 of 100\n",
      "building tree 34 of 100\n",
      "building tree 35 of 100\n",
      "building tree 36 of 100\n",
      "building tree 37 of 100\n",
      "building tree 38 of 100\n",
      "building tree 39 of 100\n",
      "building tree 40 of 100\n",
      "building tree 41 of 100\n",
      "building tree 42 of 100\n",
      "building tree 43 of 100\n",
      "building tree 44 of 100\n",
      "building tree 45 of 100\n",
      "building tree 46 of 100\n",
      "building tree 47 of 100\n",
      "building tree 48 of 100\n",
      "building tree 49 of 100\n",
      "building tree 50 of 100\n",
      "building tree 51 of 100\n",
      "building tree 52 of 100\n",
      "building tree 53 of 100\n",
      "building tree 54 of 100\n",
      "building tree 55 of 100\n",
      "building tree 56 of 100\n",
      "building tree 57 of 100\n",
      "building tree 58 of 100\n",
      "building tree 59 of 100\n",
      "building tree 60 of 100\n",
      "building tree 61 of 100\n",
      "building tree 62 of 100\n",
      "building tree 63 of 100\n",
      "building tree 64 of 100\n",
      "building tree 65 of 100\n",
      "building tree 66 of 100\n",
      "building tree 67 of 100\n",
      "building tree 68 of 100\n",
      "building tree 69 of 100\n",
      "building tree 70 of 100\n",
      "building tree 71 of 100\n",
      "building tree 72 of 100\n",
      "building tree 73 of 100\n",
      "building tree 74 of 100\n",
      "building tree 75 of 100\n",
      "building tree 76 of 100\n",
      "building tree 77 of 100\n",
      "building tree 78 of 100\n",
      "building tree 79 of 100\n",
      "building tree 80 of 100\n",
      "building tree 81 of 100\n",
      "building tree 82 of 100\n",
      "building tree 83 of 100\n",
      "building tree 84 of 100\n",
      "building tree 85 of 100\n",
      "building tree 86 of 100\n",
      "building tree 87 of 100\n",
      "building tree 88 of 100\n",
      "building tree 89 of 100\n",
      "building tree 90 of 100\n",
      "building tree 91 of 100\n",
      "building tree 92 of 100\n",
      "building tree 93 of 100\n",
      "building tree 94 of 100\n",
      "building tree 95 of 100\n",
      "building tree 96 of 100\n",
      "building tree 97 of 100\n",
      "building tree 98 of 100\n",
      "building tree 99 of 100\n",
      "building tree 100 of 100\n"
     ]
    },
    {
     "name": "stderr",
     "output_type": "stream",
     "text": [
      "[Parallel(n_jobs=1)]: Done 100 out of 100 | elapsed:   24.7s finished\n",
      "[Parallel(n_jobs=1)]: Using backend SequentialBackend with 1 concurrent workers.\n",
      "[Parallel(n_jobs=1)]: Done   1 out of   1 | elapsed:    0.0s remaining:    0.0s\n",
      "[Parallel(n_jobs=1)]: Done 100 out of 100 | elapsed:    1.1s finished\n"
     ]
    },
    {
     "data": {
      "text/plain": [
       "array([[0.05, 0.95],\n",
       "       [1.  , 0.  ],\n",
       "       [1.  , 0.  ],\n",
       "       [1.  , 0.  ],\n",
       "       [1.  , 0.  ]])"
      ]
     },
     "execution_count": 32,
     "metadata": {},
     "output_type": "execute_result"
    }
   ],
   "source": [
    "rndm_clf = RandomForestClassifier(verbose =2)\n",
    "rndm_clf.fit(X_train, y_train_5)\n",
    "prob = rndm_clf.predict_proba(X_train)\n",
    "prob[:5]"
   ]
  },
  {
   "cell_type": "code",
   "execution_count": 33,
   "id": "2c470a92-d6da-4351-b1c1-8112a333f994",
   "metadata": {},
   "outputs": [
    {
     "data": {
      "text/plain": [
       "[]"
      ]
     },
     "execution_count": 33,
     "metadata": {},
     "output_type": "execute_result"
    },
    {
     "data": {
      "image/png": "[encoded data removed]",
      "text/plain": [
       "<Figure size 640x480 with 1 Axes>"
      ]
     },
     "metadata": {},
     "output_type": "display_data"
    }
   ],
   "source": [
    "y_prob_positive = prob[:,1]\n",
    "#let's plot the ROC curve for it\n",
    "fpr, tpr, thresholds = roc_curve(y_train_5, y_prob_positive)\n",
    "plt.plot(fpr, tpr)\n",
    "plt.plot([0,1],[0,1], 'k--')\n",
    "plt.plot()"
   ]
  },
  {
   "cell_type": "code",
   "execution_count": 35,
   "id": "ed3939a0-f688-4dbf-9756-0d81056dfe20",
   "metadata": {},
   "outputs": [
    {
     "name": "stdout",
     "output_type": "stream",
     "text": [
      "accuracy 1.0\n",
      "recall 1.0\n",
      "precision 1.0\n"
     ]
    },
    {
     "data": {
      "text/plain": [
       "array([[54579,     0],\n",
       "       [    0,  5421]], dtype=int64)"
      ]
     },
     "execution_count": 35,
     "metadata": {},
     "output_type": "execute_result"
    }
   ],
   "source": [
    "#let's find out the precision, recall, and accuracy for this model\n",
    "y_rndm_train = (y_prob_positive>=0.5).astype('int')\n",
    "from sklearn.metrics import accuracy_score\n",
    "print('accuracy', accuracy_score(y_train_5, y_rndm_train))\n",
    "print('recall', recall_score(y_train_5, y_rndm_train))\n",
    "print(\"precision\", recall_score(y_train_5, y_rndm_train))\n",
    "confusion_matrix(y_train_5,y_rndm_train)"
   ]
  },
  {
   "cell_type": "markdown",
   "id": "29257bd3-cbb0-4ba8-a338-a532c6734c49",
   "metadata": {},
   "source": [
    "We can observe that we are recieving 100% of every metric with this classifier but these are not the signs of a great classifier it means that our model has probably overfit the data, that's why it is performing such good on the train data."
   ]
  },
  {
   "cell_type": "markdown",
   "id": "d5a9ed66-b593-4e1d-9b74-9b1ff8ccfe31",
   "metadata": {},
   "source": [
    "# Multiclass Classification\n",
    "Multiclass classifiers can distinguish between more than two classes. Some algorithms such as RandomForest classifier or Naive Bayes classifier are capable of handling multiclass problems while others such as Suppost Vector Machines or other Linear classifiers can only handle binary classification but there are different ways of using multiple binary classifiers to perform multiclass classification. \n",
    "## OvA (One vs All) classifier\n",
    "For example, you can to train a classifier to classify among classes 1 to 10. You can train 10 different binary classifiers for each digit, then at last you can use these classifiers to get the scores/probability from each of them and choose the digit with the highest probability/score. \n",
    "## OvO (One vs One) classifier\n",
    "Train a binary classifier for every pair of digits. Therefore we need to train N*(N-1)/2 binary classifiers, suppose you want to predict a class, you will use all the classifiers for prediction and see which class wins the most duels. We will need to train a lot of classifiers but each classifier will only be trained on a subset of the dataset. For models such as SVM which scale poorly with the size of the dataset, OvO is a great strategy."
   ]
  },
  {
   "cell_type": "code",
   "execution_count": 36,
   "id": "0eb0749a-5c62-4167-a863-4f3b74699a59",
   "metadata": {},
   "outputs": [
    {
     "data": {
      "text/html": [
       "<style>#sk-container-id-2 {color: black;background-color: white;}#sk-container-id-2 pre{padding: 0;}#sk-container-id-2 div.sk-toggleable {background-color: white;}#sk-container-id-2 label.sk-toggleable__label {cursor: pointer;display: block;width: 100%;margin-bottom: 0;padding: 0.3em;box-sizing: border-box;text-align: center;}#sk-container-id-2 label.sk-toggleable__label-arrow:before {content: \"▸\";float: left;margin-right: 0.25em;color: #696969;}#sk-container-id-2 label.sk-toggleable__label-arrow:hover:before {color: black;}#sk-container-id-2 div.sk-estimator:hover label.sk-toggleable__label-arrow:before {color: black;}#sk-container-id-2 div.sk-toggleable__content {max-height: 0;max-width: 0;overflow: hidden;text-align: left;background-color: #f0f8ff;}#sk-container-id-2 div.sk-toggleable__content pre {margin: 0.2em;color: black;border-radius: 0.25em;background-color: #f0f8ff;}#sk-container-id-2 input.sk-toggleable__control:checked~div.sk-toggleable__content {max-height: 200px;max-width: 100%;overflow: auto;}#sk-container-id-2 input.sk-toggleable__control:checked~label.sk-toggleable__label-arrow:before {content: \"▾\";}#sk-container-id-2 div.sk-estimator input.sk-toggleable__control:checked~label.sk-toggleable__label {background-color: #d4ebff;}#sk-container-id-2 div.sk-label input.sk-toggleable__control:checked~label.sk-toggleable__label {background-color: #d4ebff;}#sk-container-id-2 input.sk-hidden--visually {border: 0;clip: rect(1px 1px 1px 1px);clip: rect(1px, 1px, 1px, 1px);height: 1px;margin: -1px;overflow: hidden;padding: 0;position: absolute;width: 1px;}#sk-container-id-2 div.sk-estimator {font-family: monospace;background-color: #f0f8ff;border: 1px dotted black;border-radius: 0.25em;box-sizing: border-box;margin-bottom: 0.5em;}#sk-container-id-2 div.sk-estimator:hover {background-color: #d4ebff;}#sk-container-id-2 div.sk-parallel-item::after {content: \"\";width: 100%;border-bottom: 1px solid gray;flex-grow: 1;}#sk-container-id-2 div.sk-label:hover label.sk-toggleable__label {background-color: #d4ebff;}#sk-container-id-2 div.sk-serial::before {content: \"\";position: absolute;border-left: 1px solid gray;box-sizing: border-box;top: 0;bottom: 0;left: 50%;z-index: 0;}#sk-container-id-2 div.sk-serial {display: flex;flex-direction: column;align-items: center;background-color: white;padding-right: 0.2em;padding-left: 0.2em;position: relative;}#sk-container-id-2 div.sk-item {position: relative;z-index: 1;}#sk-container-id-2 div.sk-parallel {display: flex;align-items: stretch;justify-content: center;background-color: white;position: relative;}#sk-container-id-2 div.sk-item::before, #sk-container-id-2 div.sk-parallel-item::before {content: \"\";position: absolute;border-left: 1px solid gray;box-sizing: border-box;top: 0;bottom: 0;left: 50%;z-index: -1;}#sk-container-id-2 div.sk-parallel-item {display: flex;flex-direction: column;z-index: 1;position: relative;background-color: white;}#sk-container-id-2 div.sk-parallel-item:first-child::after {align-self: flex-end;width: 50%;}#sk-container-id-2 div.sk-parallel-item:last-child::after {align-self: flex-start;width: 50%;}#sk-container-id-2 div.sk-parallel-item:only-child::after {width: 0;}#sk-container-id-2 div.sk-dashed-wrapped {border: 1px dashed gray;margin: 0 0.4em 0.5em 0.4em;box-sizing: border-box;padding-bottom: 0.4em;background-color: white;}#sk-container-id-2 div.sk-label label {font-family: monospace;font-weight: bold;display: inline-block;line-height: 1.2em;}#sk-container-id-2 div.sk-label-container {text-align: center;}#sk-container-id-2 div.sk-container {/* jupyter's `normalize.less` sets `[hidden] { display: none; }` but bootstrap.min.css set `[hidden] { display: none !important; }` so we also need the `!important` here to be able to override the default hidden behavior on the sphinx rendered scikit-learn.org. See: https://github.com/scikit-learn/scikit-learn/issues/21755 */display: inline-block !important;position: relative;}#sk-container-id-2 div.sk-text-repr-fallback {display: none;}</style><div id=\"sk-container-id-2\" class=\"sk-top-container\"><div class=\"sk-text-repr-fallback\"><pre>SGDClassifier()</pre><b>In a Jupyter environment, please rerun this cell to show the HTML representation or trust the notebook. <br />On GitHub, the HTML representation is unable to render, please try loading this page with nbviewer.org.</b></div><div class=\"sk-container\" hidden><div class=\"sk-item\"><div class=\"sk-estimator sk-toggleable\"><input class=\"sk-toggleable__control sk-hidden--visually\" id=\"sk-estimator-id-2\" type=\"checkbox\" checked><label for=\"sk-estimator-id-2\" class=\"sk-toggleable__label sk-toggleable__label-arrow\">SGDClassifier</label><div class=\"sk-toggleable__content\"><pre>SGDClassifier()</pre></div></div></div></div></div>"
      ],
      "text/plain": [
       "SGDClassifier()"
      ]
     },
     "execution_count": 36,
     "metadata": {},
     "output_type": "execute_result"
    }
   ],
   "source": [
    "#let's use SGD classifier for multiclass classification, as soon as sklearn detects that we want to do multiclass classification it already implements the OvA stratedy except in SVM models.\n",
    "sgd_classifier.fit(X_train, y_train)"
   ]
  },
  {
   "cell_type": "code",
   "execution_count": 37,
   "id": "631058e1-591c-432b-a59a-12c330e1f777",
   "metadata": {},
   "outputs": [
    {
     "data": {
      "text/plain": [
       "array([[-16880.56315365, -27193.70206738,  -9312.09379952,\n",
       "          -808.81140512, -12150.19554718,   3609.62255457,\n",
       "        -34592.75337024, -12814.08310786, -11299.15634216,\n",
       "        -12503.44264696],\n",
       "       [ 23912.82452938, -28809.38598366,  -9153.69978049,\n",
       "         -8856.48031505, -10315.6938346 , -10549.48042015,\n",
       "        -20067.35463425, -15609.30328773,  -5048.90759371,\n",
       "        -10027.50220912],\n",
       "       [-27074.56135622, -20496.84038473,  -5411.47803743,\n",
       "          -920.2352211 ,   1372.96425002, -19399.18819237,\n",
       "        -37760.70710446,  -9777.63988443, -14351.06748451,\n",
       "         -9256.00351765],\n",
       "       [-16333.39083921,   5043.00307819,  -1961.82032868,\n",
       "         -1093.75170204,  -1632.36392524,  -8109.02237586,\n",
       "        -21727.30074734,  -8938.96664532,  -2280.28676711,\n",
       "         -5668.03030965],\n",
       "       [-32278.98854076, -14588.70116855, -18823.77516174,\n",
       "         -7086.75909013,  -1476.81476443, -10138.85208852,\n",
       "        -35563.27480174,  -6266.18250246,  -6414.05424842,\n",
       "          1876.95406918]])"
      ]
     },
     "execution_count": 37,
     "metadata": {},
     "output_type": "execute_result"
    }
   ],
   "source": [
    "#let's get the predictions and scores of this classifier \n",
    "y_train_p = sgd_classifier.predict(X_train)\n",
    "y_train_decision = sgd_classifier.decision_function(X_train)\n",
    "y_train_decision[:5]\n"
   ]
  },
  {
   "cell_type": "code",
   "execution_count": 39,
   "id": "e9b595e5-6a5e-4cc3-83b9-2c6619ebc312",
   "metadata": {},
   "outputs": [
    {
     "name": "stdout",
     "output_type": "stream",
     "text": [
      "accuracy 0.8981\n"
     ]
    },
    {
     "data": {
      "text/plain": [
       "array([[5795,    0,   35,    2,   29,   18,   16,    0,   25,    3],\n",
       "       [   2, 6478,  103,   32,   21,   15,    7,   24,   54,    6],\n",
       "       [  45,   20, 5575,   44,  108,   12,   20,   47,   77,   10],\n",
       "       [  41,    8,  370, 5339,   18,  137,   13,   48,  105,   52],\n",
       "       [  14,   28,   41,   14, 5496,    9,    7,   10,   32,  191],\n",
       "       [  90,   12,   92,  197,  174, 4533,   74,   20,  162,   67],\n",
       "       [  58,   13,  256,   13,  174,   83, 5276,    1,   40,    4],\n",
       "       [  37,   10,   90,   35,   97,    5,    3, 5772,   19,  197],\n",
       "       [ 103,   80,  208,  381,  125,  159,   13,   33, 4672,   77],\n",
       "       [  58,   19,   34,  123,  348,   39,    1,  288,   89, 4950]],\n",
       "      dtype=int64)"
      ]
     },
     "execution_count": 39,
     "metadata": {},
     "output_type": "execute_result"
    }
   ],
   "source": [
    "print('accuracy', accuracy_score(y_train, y_train_p))\n",
    "confusion_matrix(y_train,y_train_p)"
   ]
  },
  {
   "cell_type": "code",
   "execution_count": 40,
   "id": "96c89144-b5d2-4f8b-9d55-5537fcb7c919",
   "metadata": {},
   "outputs": [],
   "source": [
    "#this is the score when we used the OvA stratedy. Let's try using the OvO strategy on SGD model.\n",
    "from sklearn.multiclass import OneVsOneClassifier"
   ]
  },
  {
   "cell_type": "code",
   "execution_count": 60,
   "id": "48b02d86-2ae1-4cd7-a0b9-14ac7e36374a",
   "metadata": {},
   "outputs": [
    {
     "data": {
      "text/html": [
       "<style>#sk-container-id-6 {color: black;background-color: white;}#sk-container-id-6 pre{padding: 0;}#sk-container-id-6 div.sk-toggleable {background-color: white;}#sk-container-id-6 label.sk-toggleable__label {cursor: pointer;display: block;width: 100%;margin-bottom: 0;padding: 0.3em;box-sizing: border-box;text-align: center;}#sk-container-id-6 label.sk-toggleable__label-arrow:before {content: \"▸\";float: left;margin-right: 0.25em;color: #696969;}#sk-container-id-6 label.sk-toggleable__label-arrow:hover:before {color: black;}#sk-container-id-6 div.sk-estimator:hover label.sk-toggleable__label-arrow:before {color: black;}#sk-container-id-6 div.sk-toggleable__content {max-height: 0;max-width: 0;overflow: hidden;text-align: left;background-color: #f0f8ff;}#sk-container-id-6 div.sk-toggleable__content pre {margin: 0.2em;color: black;border-radius: 0.25em;background-color: #f0f8ff;}#sk-container-id-6 input.sk-toggleable__control:checked~div.sk-toggleable__content {max-height: 200px;max-width: 100%;overflow: auto;}#sk-container-id-6 input.sk-toggleable__control:checked~label.sk-toggleable__label-arrow:before {content: \"▾\";}#sk-container-id-6 div.sk-estimator input.sk-toggleable__control:checked~label.sk-toggleable__label {background-color: #d4ebff;}#sk-container-id-6 div.sk-label input.sk-toggleable__control:checked~label.sk-toggleable__label {background-color: #d4ebff;}#sk-container-id-6 input.sk-hidden--visually {border: 0;clip: rect(1px 1px 1px 1px);clip: rect(1px, 1px, 1px, 1px);height: 1px;margin: -1px;overflow: hidden;padding: 0;position: absolute;width: 1px;}#sk-container-id-6 div.sk-estimator {font-family: monospace;background-color: #f0f8ff;border: 1px dotted black;border-radius: 0.25em;box-sizing: border-box;margin-bottom: 0.5em;}#sk-container-id-6 div.sk-estimator:hover {background-color: #d4ebff;}#sk-container-id-6 div.sk-parallel-item::after {content: \"\";width: 100%;border-bottom: 1px solid gray;flex-grow: 1;}#sk-container-id-6 div.sk-label:hover label.sk-toggleable__label {background-color: #d4ebff;}#sk-container-id-6 div.sk-serial::before {content: \"\";position: absolute;border-left: 1px solid gray;box-sizing: border-box;top: 0;bottom: 0;left: 50%;z-index: 0;}#sk-container-id-6 div.sk-serial {display: flex;flex-direction: column;align-items: center;background-color: white;padding-right: 0.2em;padding-left: 0.2em;position: relative;}#sk-container-id-6 div.sk-item {position: relative;z-index: 1;}#sk-container-id-6 div.sk-parallel {display: flex;align-items: stretch;justify-content: center;background-color: white;position: relative;}#sk-container-id-6 div.sk-item::before, #sk-container-id-6 div.sk-parallel-item::before {content: \"\";position: absolute;border-left: 1px solid gray;box-sizing: border-box;top: 0;bottom: 0;left: 50%;z-index: -1;}#sk-container-id-6 div.sk-parallel-item {display: flex;flex-direction: column;z-index: 1;position: relative;background-color: white;}#sk-container-id-6 div.sk-parallel-item:first-child::after {align-self: flex-end;width: 50%;}#sk-container-id-6 div.sk-parallel-item:last-child::after {align-self: flex-start;width: 50%;}#sk-container-id-6 div.sk-parallel-item:only-child::after {width: 0;}#sk-container-id-6 div.sk-dashed-wrapped {border: 1px dashed gray;margin: 0 0.4em 0.5em 0.4em;box-sizing: border-box;padding-bottom: 0.4em;background-color: white;}#sk-container-id-6 div.sk-label label {font-family: monospace;font-weight: bold;display: inline-block;line-height: 1.2em;}#sk-container-id-6 div.sk-label-container {text-align: center;}#sk-container-id-6 div.sk-container {/* jupyter's `normalize.less` sets `[hidden] { display: none; }` but bootstrap.min.css set `[hidden] { display: none !important; }` so we also need the `!important` here to be able to override the default hidden behavior on the sphinx rendered scikit-learn.org. See: https://github.com/scikit-learn/scikit-learn/issues/21755 */display: inline-block !important;position: relative;}#sk-container-id-6 div.sk-text-repr-fallback {display: none;}</style><div id=\"sk-container-id-6\" class=\"sk-top-container\"><div class=\"sk-text-repr-fallback\"><pre>OneVsOneClassifier(estimator=SGDClassifier())</pre><b>In a Jupyter environment, please rerun this cell to show the HTML representation or trust the notebook. <br />On GitHub, the HTML representation is unable to render, please try loading this page with nbviewer.org.</b></div><div class=\"sk-container\" hidden><div class=\"sk-item sk-dashed-wrapped\"><div class=\"sk-label-container\"><div class=\"sk-label sk-toggleable\"><input class=\"sk-toggleable__control sk-hidden--visually\" id=\"sk-estimator-id-18\" type=\"checkbox\" ><label for=\"sk-estimator-id-18\" class=\"sk-toggleable__label sk-toggleable__label-arrow\">OneVsOneClassifier</label><div class=\"sk-toggleable__content\"><pre>OneVsOneClassifier(estimator=SGDClassifier())</pre></div></div></div><div class=\"sk-parallel\"><div class=\"sk-parallel-item\"><div class=\"sk-item\"><div class=\"sk-label-container\"><div class=\"sk-label sk-toggleable\"><input class=\"sk-toggleable__control sk-hidden--visually\" id=\"sk-estimator-id-19\" type=\"checkbox\" ><label for=\"sk-estimator-id-19\" class=\"sk-toggleable__label sk-toggleable__label-arrow\">estimator: SGDClassifier</label><div class=\"sk-toggleable__content\"><pre>SGDClassifier()</pre></div></div></div><div class=\"sk-serial\"><div class=\"sk-item\"><div class=\"sk-estimator sk-toggleable\"><input class=\"sk-toggleable__control sk-hidden--visually\" id=\"sk-estimator-id-20\" type=\"checkbox\" ><label for=\"sk-estimator-id-20\" class=\"sk-toggleable__label sk-toggleable__label-arrow\">SGDClassifier</label><div class=\"sk-toggleable__content\"><pre>SGDClassifier()</pre></div></div></div></div></div></div></div></div></div></div>"
      ],
      "text/plain": [
       "OneVsOneClassifier(estimator=SGDClassifier())"
      ]
     },
     "execution_count": 60,
     "metadata": {},
     "output_type": "execute_result"
    }
   ],
   "source": [
    "sgd=SGDClassifier()\n",
    "ovo_classifier = OneVsOneClassifier(sgd)\n",
    "\n",
    "# Let's create a pipeline that scales the input and then use ovo_classifier on the scaled inputs\n",
    "from sklearn.pipeline import Pipeline\n",
    "from sklearn.preprocessing import StandardScaler\n",
    "\n",
    "ovo_classifier.fit(X_train, y_train)"
   ]
  },
  {
   "cell_type": "code",
   "execution_count": 61,
   "id": "a20bfdba-1a38-4968-8b8e-19e7a97cd218",
   "metadata": {},
   "outputs": [],
   "source": [
    "scores = ovo_classifier.decision_function(X_train)"
   ]
  },
  {
   "cell_type": "code",
   "execution_count": 63,
   "id": "10fa300b-befe-4b0a-ac0c-a9a2601bcd8f",
   "metadata": {},
   "outputs": [
    {
     "data": {
      "text/plain": [
       "45"
      ]
     },
     "execution_count": 63,
     "metadata": {},
     "output_type": "execute_result"
    }
   ],
   "source": [
    "len(ovo_classifier.estimators_)"
   ]
  },
  {
   "cell_type": "code",
   "execution_count": 64,
   "id": "c49ce394-76f8-4f53-88cc-c8a2dce0d0f5",
   "metadata": {},
   "outputs": [
    {
     "name": "stdout",
     "output_type": "stream",
     "text": [
      "accuracy 0.94555\n"
     ]
    },
    {
     "data": {
      "text/plain": [
       "array([[5893,    0,    2,    5,    2,   16,    0,    1,    4,    0],\n",
       "       [   1, 6675,   16,   22,    0,    1,    0,    4,   20,    3],\n",
       "       [  37,   47, 5368,  178,   51,   25,   72,   68,  105,    7],\n",
       "       [  17,   11,   30, 5574,    3,  350,    3,   17,  104,   22],\n",
       "       [   4,   11,   10,    2, 5675,    2,   13,   30,    3,   92],\n",
       "       [  32,   10,   12,   63,   11, 5040,   24,    9,  189,   31],\n",
       "       [  27,    5,    9,    3,   54,   83, 5706,    3,   28,    0],\n",
       "       [  10,    7,   13,   39,   24,    0,    0, 6082,   11,   79],\n",
       "       [  37,   58,   59,  115,    9,  210,   11,    7, 5276,   69],\n",
       "       [  13,   18,    2,   48,  144,   17,    0,  243,   20, 5444]],\n",
       "      dtype=int64)"
      ]
     },
     "execution_count": 64,
     "metadata": {},
     "output_type": "execute_result"
    }
   ],
   "source": [
    "pred = ovo_classifier.predict(X_train)\n",
    "print('accuracy', accuracy_score(y_train, pred))\n",
    "confusion_matrix(y_train,pred)"
   ]
  },
  {
   "cell_type": "markdown",
   "id": "cc65d4d2-3f3d-41c6-b440-9d8fdeb2d139",
   "metadata": {},
   "source": [
    "The one vs one classifier is producing better accuracy"
   ]
  },
  {
   "cell_type": "markdown",
   "id": "882a93a9-50ab-4bd5-b271-d832de960c86",
   "metadata": {},
   "source": [
    "# Error Analysis"
   ]
  },
  {
   "cell_type": "code",
   "execution_count": 78,
   "id": "46da67b3-95b6-44df-8ced-8afd4873d88f",
   "metadata": {},
   "outputs": [
    {
     "data": {
      "image/png": "[encoded data removed]",
      "text/plain": [
       "<Figure size 480x480 with 1 Axes>"
      ]
     },
     "metadata": {},
     "output_type": "display_data"
    }
   ],
   "source": [
    "plt.matshow(confusion_matrix(y_train,pred), cmap=plt.cm.binary)\n",
    "plt.show()"
   ]
  },
  {
   "cell_type": "markdown",
   "id": "10e8eaa7-c294-4de6-9e2c-c0bc628d5b5d",
   "metadata": {},
   "source": [
    "The 5s look slighty lighter than the other digits let's look more into the matter.\n",
    "Let's focus the plot on the erros "
   ]
  },
  {
   "cell_type": "code",
   "execution_count": 79,
   "id": "78e75c1f-8fb1-461a-9a84-aa5da5342442",
   "metadata": {},
   "outputs": [
    {
     "data": {
      "image/png": "[encoded data removed]",
      "text/plain": [
       "<Figure size 480x480 with 1 Axes>"
      ]
     },
     "metadata": {},
     "output_type": "display_data"
    }
   ],
   "source": [
    "conf_mx = confusion_matrix(y_train, pred)\n",
    "row_sums = conf_mx.sum(axis =1, keepdims =True)\n",
    "norm_conf_mx = conf_mx/row_sums\n",
    "#let's fill the diagonals with zero elements so that we can only focus on the errors.\n",
    "np.fill_diagonal(norm_conf_mx, 0)\n",
    "plt.matshow(norm_conf_mx, cmap =plt.cm.binary)\n",
    "plt.show()"
   ]
  },
  {
   "cell_type": "markdown",
   "id": "4a879794-2af3-4fc7-bd37-785f8fdaef45",
   "metadata": {},
   "source": [
    "We can observe the following things from the matrix:\n",
    "- There is a high misclassification between 3/5, 8/5, 5/8, 7/9 , since these digits might look kind of similar to the algorithm "
   ]
  },
  {
   "cell_type": "markdown",
   "id": "6be21deb-3132-4780-a177-84b38b5bfbcc",
   "metadata": {},
   "source": [
    "# Multilabel Classification\n",
    "Let us create a multilabel classifier which predicts whether a digit is greater than 5 and whether it is odd."
   ]
  },
  {
   "cell_type": "code",
   "execution_count": 80,
   "id": "248ffb22-44b6-4e6f-b50c-8e6ecfdd1044",
   "metadata": {},
   "outputs": [],
   "source": [
    "y_train_large = (y_train>=7)\n",
    "y_train_odd = (y_train%2==1)\n",
    "y_multilabel = np.c_[y_train_large, y_train_odd]\n"
   ]
  },
  {
   "cell_type": "code",
   "execution_count": 83,
   "id": "216287c8-c6ec-4b38-aba4-32264ea010dd",
   "metadata": {},
   "outputs": [
    {
     "data": {
      "text/html": [
       "<style>#sk-container-id-7 {color: black;background-color: white;}#sk-container-id-7 pre{padding: 0;}#sk-container-id-7 div.sk-toggleable {background-color: white;}#sk-container-id-7 label.sk-toggleable__label {cursor: pointer;display: block;width: 100%;margin-bottom: 0;padding: 0.3em;box-sizing: border-box;text-align: center;}#sk-container-id-7 label.sk-toggleable__label-arrow:before {content: \"▸\";float: left;margin-right: 0.25em;color: #696969;}#sk-container-id-7 label.sk-toggleable__label-arrow:hover:before {color: black;}#sk-container-id-7 div.sk-estimator:hover label.sk-toggleable__label-arrow:before {color: black;}#sk-container-id-7 div.sk-toggleable__content {max-height: 0;max-width: 0;overflow: hidden;text-align: left;background-color: #f0f8ff;}#sk-container-id-7 div.sk-toggleable__content pre {margin: 0.2em;color: black;border-radius: 0.25em;background-color: #f0f8ff;}#sk-container-id-7 input.sk-toggleable__control:checked~div.sk-toggleable__content {max-height: 200px;max-width: 100%;overflow: auto;}#sk-container-id-7 input.sk-toggleable__control:checked~label.sk-toggleable__label-arrow:before {content: \"▾\";}#sk-container-id-7 div.sk-estimator input.sk-toggleable__control:checked~label.sk-toggleable__label {background-color: #d4ebff;}#sk-container-id-7 div.sk-label input.sk-toggleable__control:checked~label.sk-toggleable__label {background-color: #d4ebff;}#sk-container-id-7 input.sk-hidden--visually {border: 0;clip: rect(1px 1px 1px 1px);clip: rect(1px, 1px, 1px, 1px);height: 1px;margin: -1px;overflow: hidden;padding: 0;position: absolute;width: 1px;}#sk-container-id-7 div.sk-estimator {font-family: monospace;background-color: #f0f8ff;border: 1px dotted black;border-radius: 0.25em;box-sizing: border-box;margin-bottom: 0.5em;}#sk-container-id-7 div.sk-estimator:hover {background-color: #d4ebff;}#sk-container-id-7 div.sk-parallel-item::after {content: \"\";width: 100%;border-bottom: 1px solid gray;flex-grow: 1;}#sk-container-id-7 div.sk-label:hover label.sk-toggleable__label {background-color: #d4ebff;}#sk-container-id-7 div.sk-serial::before {content: \"\";position: absolute;border-left: 1px solid gray;box-sizing: border-box;top: 0;bottom: 0;left: 50%;z-index: 0;}#sk-container-id-7 div.sk-serial {display: flex;flex-direction: column;align-items: center;background-color: white;padding-right: 0.2em;padding-left: 0.2em;position: relative;}#sk-container-id-7 div.sk-item {position: relative;z-index: 1;}#sk-container-id-7 div.sk-parallel {display: flex;align-items: stretch;justify-content: center;background-color: white;position: relative;}#sk-container-id-7 div.sk-item::before, #sk-container-id-7 div.sk-parallel-item::before {content: \"\";position: absolute;border-left: 1px solid gray;box-sizing: border-box;top: 0;bottom: 0;left: 50%;z-index: -1;}#sk-container-id-7 div.sk-parallel-item {display: flex;flex-direction: column;z-index: 1;position: relative;background-color: white;}#sk-container-id-7 div.sk-parallel-item:first-child::after {align-self: flex-end;width: 50%;}#sk-container-id-7 div.sk-parallel-item:last-child::after {align-self: flex-start;width: 50%;}#sk-container-id-7 div.sk-parallel-item:only-child::after {width: 0;}#sk-container-id-7 div.sk-dashed-wrapped {border: 1px dashed gray;margin: 0 0.4em 0.5em 0.4em;box-sizing: border-box;padding-bottom: 0.4em;background-color: white;}#sk-container-id-7 div.sk-label label {font-family: monospace;font-weight: bold;display: inline-block;line-height: 1.2em;}#sk-container-id-7 div.sk-label-container {text-align: center;}#sk-container-id-7 div.sk-container {/* jupyter's `normalize.less` sets `[hidden] { display: none; }` but bootstrap.min.css set `[hidden] { display: none !important; }` so we also need the `!important` here to be able to override the default hidden behavior on the sphinx rendered scikit-learn.org. See: https://github.com/scikit-learn/scikit-learn/issues/21755 */display: inline-block !important;position: relative;}#sk-container-id-7 div.sk-text-repr-fallback {display: none;}</style><div id=\"sk-container-id-7\" class=\"sk-top-container\"><div class=\"sk-text-repr-fallback\"><pre>KNeighborsClassifier()</pre><b>In a Jupyter environment, please rerun this cell to show the HTML representation or trust the notebook. <br />On GitHub, the HTML representation is unable to render, please try loading this page with nbviewer.org.</b></div><div class=\"sk-container\" hidden><div class=\"sk-item\"><div class=\"sk-estimator sk-toggleable\"><input class=\"sk-toggleable__control sk-hidden--visually\" id=\"sk-estimator-id-21\" type=\"checkbox\" checked><label for=\"sk-estimator-id-21\" class=\"sk-toggleable__label sk-toggleable__label-arrow\">KNeighborsClassifier</label><div class=\"sk-toggleable__content\"><pre>KNeighborsClassifier()</pre></div></div></div></div></div>"
      ],
      "text/plain": [
       "KNeighborsClassifier()"
      ]
     },
     "execution_count": 83,
     "metadata": {},
     "output_type": "execute_result"
    }
   ],
   "source": [
    "from sklearn.neighbors import KNeighborsClassifier\n",
    "knc = KNeighborsClassifier()\n",
    "knc.fit(X_train, y_multilabel)\n"
   ]
  },
  {
   "cell_type": "code",
   "execution_count": 93,
   "id": "184cf27b-d4e4-4ad6-bec4-d808d85d5b0e",
   "metadata": {},
   "outputs": [
    {
     "name": "stdout",
     "output_type": "stream",
     "text": [
      "[[False  True]] 5\n"
     ]
    }
   ],
   "source": [
    "print(knc.predict(X_train[:1]), y_train[0])"
   ]
  },
  {
   "cell_type": "markdown",
   "id": "ccbc700b-c589-48c1-a1f0-dae4205142f9",
   "metadata": {},
   "source": [
    "We can observe that it is making a correct prediction since 5 is not a large number therefore False and it is odd number therefore 5\n",
    "### Let's try evaluating this model\n",
    "we will compute the classification metrics for each label and then take the average to get the idea of its performance."
   ]
  },
  {
   "cell_type": "code",
   "execution_count": 96,
   "id": "1b3c470a-fc32-4abc-a4df-03e7c3d54d3b",
   "metadata": {},
   "outputs": [],
   "source": [
    "multi_pred = knc.predict(X_train)\n"
   ]
  },
  {
   "cell_type": "code",
   "execution_count": 97,
   "id": "962556f5-7a98-4f43-8de2-49158bf753de",
   "metadata": {},
   "outputs": [
    {
     "name": "stdout",
     "output_type": "stream",
     "text": [
      "0.9903333333333333 0.9896 0.9899666666666667\n"
     ]
    }
   ],
   "source": [
    "pred_large = multi_pred[:,0]\n",
    "pred_odd = multi_pred[:,1]\n",
    "print(accuracy_score(y_train_large, pred_large), accuracy_score(y_train_odd, pred_odd), (accuracy_score(y_train_large, pred_large) +accuracy_score(y_train_odd, pred_odd))/2 )"
   ]
  },
  {
   "cell_type": "markdown",
   "id": "c5088cd9-de81-4f3c-a57d-38feb21414da",
   "metadata": {},
   "source": [
    "## Multioutput classification or Multioutput multiclass classification\n",
    "It is a generalization of multilabel classification where each label can be multiclass. For example, let's train a system that removes noise from images. It will take as input a noisy digit image, and it will output a clean digit image, represented as an array of pixel intensities, just like the MNIST images. Notice that the classifier's output is multilabel (one label per pixel) and each label can have multiple values (pixel intensity ranges from 0 to 255). It is thus an example of a multioutput classification system\n"
   ]
  },
  {
   "cell_type": "code",
   "execution_count": 100,
   "id": "c96d0bf9-624d-4aaf-baf3-7a490c9e4aab",
   "metadata": {},
   "outputs": [],
   "source": [
    "#let's add noise to the mnist images and the target will be the mnist images.\n",
    "noise = np.random.randint(0,100,(len(X_train), 784))\n",
    "X_train_mltopt = X_train + noise\n",
    "test_noise = np.random.randint(0,100, (len(X_test), 784))\n",
    "X_test_mltopt = X_test + test_noise\n",
    "y_train_mltopt = X_train\n",
    "y_test_mltopt = X_test\n"
   ]
  },
  {
   "cell_type": "code",
   "execution_count": 101,
   "id": "9fe17029-e916-4a46-a06c-1ea91c195a5a",
   "metadata": {},
   "outputs": [
    {
     "data": {
      "text/html": [
       "<style>#sk-container-id-8 {color: black;background-color: white;}#sk-container-id-8 pre{padding: 0;}#sk-container-id-8 div.sk-toggleable {background-color: white;}#sk-container-id-8 label.sk-toggleable__label {cursor: pointer;display: block;width: 100%;margin-bottom: 0;padding: 0.3em;box-sizing: border-box;text-align: center;}#sk-container-id-8 label.sk-toggleable__label-arrow:before {content: \"▸\";float: left;margin-right: 0.25em;color: #696969;}#sk-container-id-8 label.sk-toggleable__label-arrow:hover:before {color: black;}#sk-container-id-8 div.sk-estimator:hover label.sk-toggleable__label-arrow:before {color: black;}#sk-container-id-8 div.sk-toggleable__content {max-height: 0;max-width: 0;overflow: hidden;text-align: left;background-color: #f0f8ff;}#sk-container-id-8 div.sk-toggleable__content pre {margin: 0.2em;color: black;border-radius: 0.25em;background-color: #f0f8ff;}#sk-container-id-8 input.sk-toggleable__control:checked~div.sk-toggleable__content {max-height: 200px;max-width: 100%;overflow: auto;}#sk-container-id-8 input.sk-toggleable__control:checked~label.sk-toggleable__label-arrow:before {content: \"▾\";}#sk-container-id-8 div.sk-estimator input.sk-toggleable__control:checked~label.sk-toggleable__label {background-color: #d4ebff;}#sk-container-id-8 div.sk-label input.sk-toggleable__control:checked~label.sk-toggleable__label {background-color: #d4ebff;}#sk-container-id-8 input.sk-hidden--visually {border: 0;clip: rect(1px 1px 1px 1px);clip: rect(1px, 1px, 1px, 1px);height: 1px;margin: -1px;overflow: hidden;padding: 0;position: absolute;width: 1px;}#sk-container-id-8 div.sk-estimator {font-family: monospace;background-color: #f0f8ff;border: 1px dotted black;border-radius: 0.25em;box-sizing: border-box;margin-bottom: 0.5em;}#sk-container-id-8 div.sk-estimator:hover {background-color: #d4ebff;}#sk-container-id-8 div.sk-parallel-item::after {content: \"\";width: 100%;border-bottom: 1px solid gray;flex-grow: 1;}#sk-container-id-8 div.sk-label:hover label.sk-toggleable__label {background-color: #d4ebff;}#sk-container-id-8 div.sk-serial::before {content: \"\";position: absolute;border-left: 1px solid gray;box-sizing: border-box;top: 0;bottom: 0;left: 50%;z-index: 0;}#sk-container-id-8 div.sk-serial {display: flex;flex-direction: column;align-items: center;background-color: white;padding-right: 0.2em;padding-left: 0.2em;position: relative;}#sk-container-id-8 div.sk-item {position: relative;z-index: 1;}#sk-container-id-8 div.sk-parallel {display: flex;align-items: stretch;justify-content: center;background-color: white;position: relative;}#sk-container-id-8 div.sk-item::before, #sk-container-id-8 div.sk-parallel-item::before {content: \"\";position: absolute;border-left: 1px solid gray;box-sizing: border-box;top: 0;bottom: 0;left: 50%;z-index: -1;}#sk-container-id-8 div.sk-parallel-item {display: flex;flex-direction: column;z-index: 1;position: relative;background-color: white;}#sk-container-id-8 div.sk-parallel-item:first-child::after {align-self: flex-end;width: 50%;}#sk-container-id-8 div.sk-parallel-item:last-child::after {align-self: flex-start;width: 50%;}#sk-container-id-8 div.sk-parallel-item:only-child::after {width: 0;}#sk-container-id-8 div.sk-dashed-wrapped {border: 1px dashed gray;margin: 0 0.4em 0.5em 0.4em;box-sizing: border-box;padding-bottom: 0.4em;background-color: white;}#sk-container-id-8 div.sk-label label {font-family: monospace;font-weight: bold;display: inline-block;line-height: 1.2em;}#sk-container-id-8 div.sk-label-container {text-align: center;}#sk-container-id-8 div.sk-container {/* jupyter's `normalize.less` sets `[hidden] { display: none; }` but bootstrap.min.css set `[hidden] { display: none !important; }` so we also need the `!important` here to be able to override the default hidden behavior on the sphinx rendered scikit-learn.org. See: https://github.com/scikit-learn/scikit-learn/issues/21755 */display: inline-block !important;position: relative;}#sk-container-id-8 div.sk-text-repr-fallback {display: none;}</style><div id=\"sk-container-id-8\" class=\"sk-top-container\"><div class=\"sk-text-repr-fallback\"><pre>KNeighborsClassifier()</pre><b>In a Jupyter environment, please rerun this cell to show the HTML representation or trust the notebook. <br />On GitHub, the HTML representation is unable to render, please try loading this page with nbviewer.org.</b></div><div class=\"sk-container\" hidden><div class=\"sk-item\"><div class=\"sk-estimator sk-toggleable\"><input class=\"sk-toggleable__control sk-hidden--visually\" id=\"sk-estimator-id-22\" type=\"checkbox\" checked><label for=\"sk-estimator-id-22\" class=\"sk-toggleable__label sk-toggleable__label-arrow\">KNeighborsClassifier</label><div class=\"sk-toggleable__content\"><pre>KNeighborsClassifier()</pre></div></div></div></div></div>"
      ],
      "text/plain": [
       "KNeighborsClassifier()"
      ]
     },
     "execution_count": 101,
     "metadata": {},
     "output_type": "execute_result"
    }
   ],
   "source": [
    "knc.fit(X_train_mltopt, y_train_mltopt)"
   ]
  },
  {
   "cell_type": "markdown",
   "id": "5f6d473e-a374-4378-88e3-9b7ce9fbdcc9",
   "metadata": {},
   "source": [
    "This classifier will do the provided task."
   ]
  }
 ],
 "metadata": {
  "kernelspec": {
   "display_name": "Python 3 (ipykernel)",
   "language": "python",
   "name": "python3"
  },
  "language_info": {
   "codemirror_mode": {
    "name": "ipython",
    "version": 3
   },
   "file_extension": ".py",
   "mimetype": "text/x-python",
   "name": "python",
   "nbconvert_exporter": "python",
   "pygments_lexer": "ipython3",
   "version": "3.11.5"
  }
 },
 "nbformat": 4,
 "nbformat_minor": 5
}
