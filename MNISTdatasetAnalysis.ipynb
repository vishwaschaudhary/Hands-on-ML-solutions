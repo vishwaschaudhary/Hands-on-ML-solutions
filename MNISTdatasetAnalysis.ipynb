{
 "cells": [
  {
   "cell_type": "code",
   "execution_count": 2,
   "id": "943e60a6-de7f-4256-aae8-7e837ce33fbf",
   "metadata": {},
   "outputs": [
    {
     "name": "stderr",
     "output_type": "stream",
     "text": [
      "C:\\Users\\vishw\\anaconda3\\Lib\\site-packages\\sklearn\\datasets\\_openml.py:968: FutureWarning: The default value of `parser` will change from `'liac-arff'` to `'auto'` in 1.4. You can set `parser='auto'` to silence this warning. Therefore, an `ImportError` will be raised from 1.4 if the dataset is dense and pandas is not installed. Note that the pandas parser may return different data types. See the Notes Section in fetch_openml's API doc for details.\n",
      "  warn(\n"
     ]
    },
    {
     "data": {
      "text/plain": [
       "dict_keys(['data', 'target', 'frame', 'categories', 'feature_names', 'target_names', 'DESCR', 'details', 'url'])"
      ]
     },
     "execution_count": 2,
     "metadata": {},
     "output_type": "execute_result"
    }
   ],
   "source": [
    "#importing the MNIST dataset to understand classification models\n",
    "from sklearn.datasets import fetch_openml\n",
    "mnist = fetch_openml('mnist_784', version =1)\n",
    "mnist.keys()"
   ]
  },
  {
   "cell_type": "code",
   "execution_count": 3,
   "id": "2c0c9071-18af-4c7a-a990-5806b9bd8372",
   "metadata": {},
   "outputs": [
    {
     "name": "stdout",
     "output_type": "stream",
     "text": [
      "(70000, 784) (70000,)\n"
     ]
    }
   ],
   "source": [
    "X,y = mnist['data'], mnist['target']\n",
    "print(X.shape, y.shape)"
   ]
  },
  {
   "cell_type": "markdown",
   "id": "a9cf6f2b-555f-4f1d-8ffe-5875b0ab51fc",
   "metadata": {},
   "source": [
    "Each row contains intensity of an 28*28 = 784 pixels which can be used to depict images of handwritten digits form 0 to 9"
   ]
  },
  {
   "cell_type": "code",
   "execution_count": 7,
   "id": "00b64360-f748-4ae1-9fd9-90bcdf6fede7",
   "metadata": {},
   "outputs": [
    {
     "data": {
      "text/plain": [
       "class\n",
       "1    7877\n",
       "7    7293\n",
       "3    7141\n",
       "2    6990\n",
       "9    6958\n",
       "0    6903\n",
       "6    6876\n",
       "8    6825\n",
       "4    6824\n",
       "5    6313\n",
       "Name: count, dtype: int64"
      ]
     },
     "execution_count": 7,
     "metadata": {},
     "output_type": "execute_result"
    }
   ],
   "source": [
    "y.value_counts() "
   ]
  },
  {
   "cell_type": "code",
   "execution_count": 32,
   "id": "c04e0887-1e2b-4dea-a802-92e2c10a34a2",
   "metadata": {},
   "outputs": [],
   "source": [
    "y=y.astype('int')"
   ]
  },
  {
   "cell_type": "markdown",
   "id": "1c992cef-697d-48b4-946d-0bb68d51474c",
   "metadata": {},
   "source": [
    "The data can be interpreted as homogenous "
   ]
  },
  {
   "cell_type": "code",
   "execution_count": 33,
   "id": "a8319558-97ca-48da-9552-05087f95f2a7",
   "metadata": {},
   "outputs": [],
   "source": [
    "#let us split the dataset into train and test set before any further analysis. This dataset available at sklearn is already divided into stratified samples for training and testing with shuffling of index.\n",
    "X_train, X_test, y_train, y_test = X[:60000],X[60000:],y[:60000],y[:60000]\n"
   ]
  },
  {
   "cell_type": "code",
   "execution_count": 34,
   "id": "4a9cd461-5fe9-42a1-bd50-69d3605e8682",
   "metadata": {},
   "outputs": [],
   "source": [
    "#let's start by training a binary classifier on the dataset\n",
    "y_train_5 = (y_train == 5)\n",
    "y_test_5 = (y_test == 5)"
   ]
  },
  {
   "cell_type": "code",
   "execution_count": 35,
   "id": "d4d339e5-9c0a-4930-b0e7-83d6b3724ebd",
   "metadata": {},
   "outputs": [
    {
     "data": {
      "text/html": [
       "<style>#sk-container-id-2 {color: black;background-color: white;}#sk-container-id-2 pre{padding: 0;}#sk-container-id-2 div.sk-toggleable {background-color: white;}#sk-container-id-2 label.sk-toggleable__label {cursor: pointer;display: block;width: 100%;margin-bottom: 0;padding: 0.3em;box-sizing: border-box;text-align: center;}#sk-container-id-2 label.sk-toggleable__label-arrow:before {content: \"▸\";float: left;margin-right: 0.25em;color: #696969;}#sk-container-id-2 label.sk-toggleable__label-arrow:hover:before {color: black;}#sk-container-id-2 div.sk-estimator:hover label.sk-toggleable__label-arrow:before {color: black;}#sk-container-id-2 div.sk-toggleable__content {max-height: 0;max-width: 0;overflow: hidden;text-align: left;background-color: #f0f8ff;}#sk-container-id-2 div.sk-toggleable__content pre {margin: 0.2em;color: black;border-radius: 0.25em;background-color: #f0f8ff;}#sk-container-id-2 input.sk-toggleable__control:checked~div.sk-toggleable__content {max-height: 200px;max-width: 100%;overflow: auto;}#sk-container-id-2 input.sk-toggleable__control:checked~label.sk-toggleable__label-arrow:before {content: \"▾\";}#sk-container-id-2 div.sk-estimator input.sk-toggleable__control:checked~label.sk-toggleable__label {background-color: #d4ebff;}#sk-container-id-2 div.sk-label input.sk-toggleable__control:checked~label.sk-toggleable__label {background-color: #d4ebff;}#sk-container-id-2 input.sk-hidden--visually {border: 0;clip: rect(1px 1px 1px 1px);clip: rect(1px, 1px, 1px, 1px);height: 1px;margin: -1px;overflow: hidden;padding: 0;position: absolute;width: 1px;}#sk-container-id-2 div.sk-estimator {font-family: monospace;background-color: #f0f8ff;border: 1px dotted black;border-radius: 0.25em;box-sizing: border-box;margin-bottom: 0.5em;}#sk-container-id-2 div.sk-estimator:hover {background-color: #d4ebff;}#sk-container-id-2 div.sk-parallel-item::after {content: \"\";width: 100%;border-bottom: 1px solid gray;flex-grow: 1;}#sk-container-id-2 div.sk-label:hover label.sk-toggleable__label {background-color: #d4ebff;}#sk-container-id-2 div.sk-serial::before {content: \"\";position: absolute;border-left: 1px solid gray;box-sizing: border-box;top: 0;bottom: 0;left: 50%;z-index: 0;}#sk-container-id-2 div.sk-serial {display: flex;flex-direction: column;align-items: center;background-color: white;padding-right: 0.2em;padding-left: 0.2em;position: relative;}#sk-container-id-2 div.sk-item {position: relative;z-index: 1;}#sk-container-id-2 div.sk-parallel {display: flex;align-items: stretch;justify-content: center;background-color: white;position: relative;}#sk-container-id-2 div.sk-item::before, #sk-container-id-2 div.sk-parallel-item::before {content: \"\";position: absolute;border-left: 1px solid gray;box-sizing: border-box;top: 0;bottom: 0;left: 50%;z-index: -1;}#sk-container-id-2 div.sk-parallel-item {display: flex;flex-direction: column;z-index: 1;position: relative;background-color: white;}#sk-container-id-2 div.sk-parallel-item:first-child::after {align-self: flex-end;width: 50%;}#sk-container-id-2 div.sk-parallel-item:last-child::after {align-self: flex-start;width: 50%;}#sk-container-id-2 div.sk-parallel-item:only-child::after {width: 0;}#sk-container-id-2 div.sk-dashed-wrapped {border: 1px dashed gray;margin: 0 0.4em 0.5em 0.4em;box-sizing: border-box;padding-bottom: 0.4em;background-color: white;}#sk-container-id-2 div.sk-label label {font-family: monospace;font-weight: bold;display: inline-block;line-height: 1.2em;}#sk-container-id-2 div.sk-label-container {text-align: center;}#sk-container-id-2 div.sk-container {/* jupyter's `normalize.less` sets `[hidden] { display: none; }` but bootstrap.min.css set `[hidden] { display: none !important; }` so we also need the `!important` here to be able to override the default hidden behavior on the sphinx rendered scikit-learn.org. See: https://github.com/scikit-learn/scikit-learn/issues/21755 */display: inline-block !important;position: relative;}#sk-container-id-2 div.sk-text-repr-fallback {display: none;}</style><div id=\"sk-container-id-2\" class=\"sk-top-container\"><div class=\"sk-text-repr-fallback\"><pre>SGDClassifier()</pre><b>In a Jupyter environment, please rerun this cell to show the HTML representation or trust the notebook. <br />On GitHub, the HTML representation is unable to render, please try loading this page with nbviewer.org.</b></div><div class=\"sk-container\" hidden><div class=\"sk-item\"><div class=\"sk-estimator sk-toggleable\"><input class=\"sk-toggleable__control sk-hidden--visually\" id=\"sk-estimator-id-2\" type=\"checkbox\" checked><label for=\"sk-estimator-id-2\" class=\"sk-toggleable__label sk-toggleable__label-arrow\">SGDClassifier</label><div class=\"sk-toggleable__content\"><pre>SGDClassifier()</pre></div></div></div></div></div>"
      ],
      "text/plain": [
       "SGDClassifier()"
      ]
     },
     "execution_count": 35,
     "metadata": {},
     "output_type": "execute_result"
    }
   ],
   "source": [
    "#We will use a Stochastics gradient descent classifier since it is fast\n",
    "from sklearn.linear_model import SGDClassifier\n",
    "sgd_classifier = SGDClassifier()\n",
    "sgd_classifier.fit(X_train, y_train_5)\n"
   ]
  },
  {
   "cell_type": "code",
   "execution_count": 36,
   "id": "7d4d02a3-7f9c-47d3-8b3b-ca637066506e",
   "metadata": {},
   "outputs": [
    {
     "data": {
      "text/plain": [
       "array([0.95375   , 0.96891667, 0.96033333, 0.95366667, 0.96708333])"
      ]
     },
     "execution_count": 36,
     "metadata": {},
     "output_type": "execute_result"
    }
   ],
   "source": [
    "#let us measure the accuracy of this model using cross-validation\n",
    "from sklearn.model_selection import cross_val_score\n",
    "cross_val_score(sgd_classifier, X_train, y_train_5, cv=5,scoring='accuracy' )"
   ]
  },
  {
   "cell_type": "markdown",
   "id": "04bab65d-6da8-453c-81f5-2913b81c727a",
   "metadata": {},
   "source": [
    "Our model is providing a pretty much good accuray across all the 5 samples. But we will find out that accuracy does'nt depict the real performance of our classifier since there is huge class imbalance in target column y_train_5."
   ]
  },
  {
   "cell_type": "code",
   "execution_count": 47,
   "id": "36bd8039-6447-4bed-8490-3766d7b79d2a",
   "metadata": {},
   "outputs": [],
   "source": [
    "#let's create a function to calculate cross_validation score such that each sample taken is stratified, therefore representing the dataset in a better way.\n",
    "from sklearn.model_selection import StratifiedKFold\n",
    "from sklearn.base import clone\n",
    "\n",
    "def cross_validate_accuracy(model, cv, X,y):\n",
    "    skf = StratifiedKFold(n_splits =cv)\n",
    "    accuracy = []\n",
    "    for train_index, test_index in skf.split(X,y):\n",
    "        model = clone(model) #to create a clone of the model, forgetting every parameter it has learned except the hyperparameter specified.\n",
    "        X_train_fold = X.iloc[train_index] #will return one training fold each time the loop is executed using the stratified train index\n",
    "        y_train_fold =y.iloc[train_index]\n",
    "        X_test_fold = X.iloc[test_index]\n",
    "        y_test_fold = y.iloc[test_index]\n",
    "        model.fit(X_train_fold, y_train_fold)\n",
    "        predicted = model.predict(X_test_fold)\n",
    "        acc = sum(y_test_fold == predicted)/len(y_test_fold)\n",
    "        accuracy.append(acc)\n",
    "    return accuracy"
   ]
  },
  {
   "cell_type": "code",
   "execution_count": 48,
   "id": "80c03559-b8ef-4f1a-869a-36ad3c38228d",
   "metadata": {},
   "outputs": [
    {
     "name": "stdout",
     "output_type": "stream",
     "text": [
      "[0.9623333333333334, 0.9655, 0.9593333333333334, 0.9668333333333333, 0.9561666666666667]\n"
     ]
    }
   ],
   "source": [
    "print(cross_validate_accuracy(sgd_classifier, 5, X_train, y_train_5))"
   ]
  },
  {
   "cell_type": "markdown",
   "id": "bf8ff8d7-a30d-478a-b24e-4713b6d22304",
   "metadata": {},
   "source": [
    "We can observe that the accuracy is great, but maybe we are not able to see the full picture here. We will use confusion matrix to observe the full picture of our classification problem."
   ]
  },
  {
   "cell_type": "code",
   "execution_count": 59,
   "id": "7fcefbf1-9ee2-497b-ba38-a0df6ae7f21c",
   "metadata": {},
   "outputs": [],
   "source": [
    "from sklearn.model_selection import cross_val_predict\n",
    "y_train_pred = cross_val_predict(sgd_classifier, X_train, y_train_5, cv=3)"
   ]
  },
  {
   "cell_type": "code",
   "execution_count": 61,
   "id": "e9b42b94-eb7d-46ea-8382-b13cfbd4b564",
   "metadata": {},
   "outputs": [
    {
     "data": {
      "text/plain": [
       "array([[53734,   845],\n",
       "       [ 1615,  3806]], dtype=int64)"
      ]
     },
     "execution_count": 61,
     "metadata": {},
     "output_type": "execute_result"
    }
   ],
   "source": [
    "from sklearn.metrics import confusion_matrix\n",
    "cm=confusion_matrix(y_train_5, y_train_pred)\n",
    "cm"
   ]
  },
  {
   "cell_type": "code",
   "execution_count": 62,
   "id": "feccb1bb-e18f-4112-9855-6176c900ce24",
   "metadata": {},
   "outputs": [
    {
     "name": "stdout",
     "output_type": "stream",
     "text": [
      "precision 0.8183186411524404 recall 0.7020844862571481\n"
     ]
    }
   ],
   "source": [
    "#let us assign these four numbers to their respective variables with a correct representation.\n",
    "true_negative = cm[0][0]\n",
    "false_positive = cm[0][1]\n",
    "false_negative = cm[1][0]\n",
    "true_positive = cm[1][1]\n",
    "precision = true_positive/(true_positive+false_positive) #how many of predicted positives are actually positives\n",
    "recall = true_positive/(true_positive+false_negative) #out of all actual positives how many was our predictor able to classify correct\n",
    "#recall is also called sensitivity or true positive rate\n",
    "#let us calculate precision and recall\n",
    "print('precision',precision,'recall',recall)"
   ]
  },
  {
   "cell_type": "code",
   "execution_count": 64,
   "id": "a5495798-7df6-45ba-813f-4b898ebb1e2f",
   "metadata": {},
   "outputs": [
    {
     "name": "stdout",
     "output_type": "stream",
     "text": [
      "0.8183186411524404\n",
      "0.7020844862571481\n"
     ]
    }
   ],
   "source": [
    "#let us see how we can use sklearn to calculate these metrics\n",
    "from sklearn.metrics import precision_score, recall_score\n",
    "print(precision_score(y_train_5, y_pred=y_train_pred))\n",
    "print(recall_score(y_train_5, y_train_pred))"
   ]
  },
  {
   "cell_type": "markdown",
   "id": "60240338-911b-460e-bd41-40a33205ac0e",
   "metadata": {},
   "source": [
    "We can observe that the scores calculated by sklearn are similar."
   ]
  },
  {
   "cell_type": "code",
   "execution_count": 66,
   "id": "e837450f-24a8-4c23-b887-95dd2a378076",
   "metadata": {},
   "outputs": [
    {
     "name": "stdout",
     "output_type": "stream",
     "text": [
      "0.755758538522637\n"
     ]
    }
   ],
   "source": [
    "#it is often convenient to take the harmonic mean of precision score and recall score to get an average idea of overall performance of the model.\n",
    "f1_score=((2*precision*recall)/(precision+recall))\n",
    "print(f1_score)"
   ]
  },
  {
   "cell_type": "markdown",
   "id": "c3efdab8-3d64-4318-85a6-86df1c6e7936",
   "metadata": {},
   "source": [
    "We need to understand that there is a tradeoff between precision and recall \n",
    "#### Increasing precision decreases recall\n",
    "In the above case we got the final prediction but we can also get the scores if we use the `decision_function()` method of SGDClassifier. Now we will use the scores and manipulate the threshold to get an understanding of the tradeoff between precision and recall."
   ]
  },
  {
   "cell_type": "code",
   "execution_count": 67,
   "id": "ce720f77-9b95-4127-8aa9-05aab60fe3f9",
   "metadata": {},
   "outputs": [],
   "source": [
    "#the default threshold for SGDClassifier is zero\n",
    "y_train_scores = cross_val_predict(sgd_classifier, X_train, y_train_5, cv=3, method='decision_function')\n",
    "import matplotlib.pyplot as plt\n",
    "#Now with these scores we can compute precision, recall for all thresholds using the sklearn function\n",
    "from sklearn.metrics import precision_recall_curve\n",
    "precisions, recalls, thresholds = precision_recall_curve(y_train_5, y_train_scores)"
   ]
  },
  {
   "cell_type": "code",
   "execution_count": 72,
   "id": "f9291848-2b48-4a07-b9e7-d9efbd950079",
   "metadata": {},
   "outputs": [
    {
     "data": {
      "image/png": "[encoded data removed]",
      "text/plain": [
       "<Figure size 640x480 with 1 Axes>"
      ]
     },
     "metadata": {},
     "output_type": "display_data"
    }
   ],
   "source": [
    "plt.plot(thresholds, precisions[:-1], 'bo', label='precision')\n",
    "plt.plot(thresholds, recalls[:-1], 'r+', label = 'recall')\n",
    "plt.show()"
   ]
  },
  {
   "cell_type": "code",
   "execution_count": null,
   "id": "f7decb14-1c02-4fec-8a5a-ad2b23be2f5f",
   "metadata": {},
   "outputs": [],
   "source": []
  }
 ],
 "metadata": {
  "kernelspec": {
   "display_name": "Python 3 (ipykernel)",
   "language": "python",
   "name": "python3"
  },
  "language_info": {
   "codemirror_mode": {
    "name": "ipython",
    "version": 3
   },
   "file_extension": ".py",
   "mimetype": "text/x-python",
   "name": "python",
   "nbconvert_exporter": "python",
   "pygments_lexer": "ipython3",
   "version": "3.11.5"
  }
 },
 "nbformat": 4,
 "nbformat_minor": 5
}
