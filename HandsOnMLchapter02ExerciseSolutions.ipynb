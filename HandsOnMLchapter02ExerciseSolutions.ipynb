{
 "cells": [
  {
   "cell_type": "markdown",
   "id": "26d6e6a4-eb79-4183-935b-14445eff81c1",
   "metadata": {},
   "source": [
    "### Question 1: Try a Support Vector Machine regressor (`sklearn.svm.SVR`), with various hyperparameters such as `kernel=\"linear\"` (with various values for the `C` hyperparameter) or `kernel=\"rbf\"` (with various values for the `C` and `gamma` hyperparameters). Don't worry about what these hyperparameters mean for now. How does the best SVR predictor perform?"
   ]
  },
  {
   "cell_type": "code",
   "execution_count": 1,
   "id": "50597c5e-952d-4e87-9260-c6bc744939e1",
   "metadata": {},
   "outputs": [],
   "source": [
    "#let us import the california housing dataset to try Support Vector Machine regressor on it. Since the dataset does not require much preprocessing\n",
    "#We will import dataset from the github repository of Aurelion the author of Hands on ML.\n",
    "import os #for handling filesystem paths and directories\n",
    "import tarfile #for working with .tar, .tar.gz, .tgz files\n",
    "from six.moves import urllib #for retrieving files from URLs\n",
    "\n",
    "DOWNLOAD_ROOT = 'https://raw.githubusercontent.com/ageron/handson-ml2/master/' #Base URL for dataset repository\n",
    "HOUSING_PATH = os.path.join(\"datasets\",\"housing\") #local folder path where you will save the dataset\n",
    "HOUSING_URL = DOWNLOAD_ROOT + \"datasets/housing/housing.tgz\" #Full URL to the compressed housing dataset online\n",
    "\n",
    "def fetch_housing_data(housing_url=HOUSING_URL, housing_path=HOUSING_PATH): #To handle the entire download and extraction process\n",
    "    if not os.path.isdir(housing_path): #to create a local folder to save the dataset if it does'nt exist already\n",
    "        os.makedirs(housing_path) \n",
    "    tgz_path = os.path.join(housing_path, \"housing.tgz\") #defines a path where .tgz file will be saved\n",
    "    urllib.request.urlretrieve(housing_url, tgz_path) #downloads the file from given url and saves it in tgz_path\n",
    "    housing_tgz = tarfile.open(tgz_path) #opens the downloaded tar archive \n",
    "    housing_tgz.extractall(path = housing_path) #extracts all the contained files and download them at housing_path\n",
    "    housing_tgz.close() #closing the archive after extraction\n",
    "\n",
    "fetch_housing_data()"
   ]
  },
  {
   "cell_type": "code",
   "execution_count": 24,
   "id": "bcd8e098-e0c4-4e7a-a890-718281ae173f",
   "metadata": {},
   "outputs": [
    {
     "data": {
      "text/html": [
       "<div>\n",
       "<style scoped>\n",
       "    .dataframe tbody tr th:only-of-type {\n",
       "        vertical-align: middle;\n",
       "    }\n",
       "\n",
       "    .dataframe tbody tr th {\n",
       "        vertical-align: top;\n",
       "    }\n",
       "\n",
       "    .dataframe thead th {\n",
       "        text-align: right;\n",
       "    }\n",
       "</style>\n",
       "<table border=\"1\" class=\"dataframe\">\n",
       "  <thead>\n",
       "    <tr style=\"text-align: right;\">\n",
       "      <th></th>\n",
       "      <th>longitude</th>\n",
       "      <th>latitude</th>\n",
       "      <th>housing_median_age</th>\n",
       "      <th>total_rooms</th>\n",
       "      <th>total_bedrooms</th>\n",
       "      <th>population</th>\n",
       "      <th>households</th>\n",
       "      <th>median_income</th>\n",
       "      <th>median_house_value</th>\n",
       "      <th>ocean_proximity</th>\n",
       "    </tr>\n",
       "  </thead>\n",
       "  <tbody>\n",
       "    <tr>\n",
       "      <th>0</th>\n",
       "      <td>-122.23</td>\n",
       "      <td>37.88</td>\n",
       "      <td>41.0</td>\n",
       "      <td>880.0</td>\n",
       "      <td>129.0</td>\n",
       "      <td>322.0</td>\n",
       "      <td>126.0</td>\n",
       "      <td>8.3252</td>\n",
       "      <td>452600.0</td>\n",
       "      <td>NEAR BAY</td>\n",
       "    </tr>\n",
       "    <tr>\n",
       "      <th>1</th>\n",
       "      <td>-122.22</td>\n",
       "      <td>37.86</td>\n",
       "      <td>21.0</td>\n",
       "      <td>7099.0</td>\n",
       "      <td>1106.0</td>\n",
       "      <td>2401.0</td>\n",
       "      <td>1138.0</td>\n",
       "      <td>8.3014</td>\n",
       "      <td>358500.0</td>\n",
       "      <td>NEAR BAY</td>\n",
       "    </tr>\n",
       "    <tr>\n",
       "      <th>2</th>\n",
       "      <td>-122.24</td>\n",
       "      <td>37.85</td>\n",
       "      <td>52.0</td>\n",
       "      <td>1467.0</td>\n",
       "      <td>190.0</td>\n",
       "      <td>496.0</td>\n",
       "      <td>177.0</td>\n",
       "      <td>7.2574</td>\n",
       "      <td>352100.0</td>\n",
       "      <td>NEAR BAY</td>\n",
       "    </tr>\n",
       "    <tr>\n",
       "      <th>3</th>\n",
       "      <td>-122.25</td>\n",
       "      <td>37.85</td>\n",
       "      <td>52.0</td>\n",
       "      <td>1274.0</td>\n",
       "      <td>235.0</td>\n",
       "      <td>558.0</td>\n",
       "      <td>219.0</td>\n",
       "      <td>5.6431</td>\n",
       "      <td>341300.0</td>\n",
       "      <td>NEAR BAY</td>\n",
       "    </tr>\n",
       "    <tr>\n",
       "      <th>4</th>\n",
       "      <td>-122.25</td>\n",
       "      <td>37.85</td>\n",
       "      <td>52.0</td>\n",
       "      <td>1627.0</td>\n",
       "      <td>280.0</td>\n",
       "      <td>565.0</td>\n",
       "      <td>259.0</td>\n",
       "      <td>3.8462</td>\n",
       "      <td>342200.0</td>\n",
       "      <td>NEAR BAY</td>\n",
       "    </tr>\n",
       "  </tbody>\n",
       "</table>\n",
       "</div>"
      ],
      "text/plain": [
       "   longitude  latitude  housing_median_age  total_rooms  total_bedrooms  \\\n",
       "0    -122.23     37.88                41.0        880.0           129.0   \n",
       "1    -122.22     37.86                21.0       7099.0          1106.0   \n",
       "2    -122.24     37.85                52.0       1467.0           190.0   \n",
       "3    -122.25     37.85                52.0       1274.0           235.0   \n",
       "4    -122.25     37.85                52.0       1627.0           280.0   \n",
       "\n",
       "   population  households  median_income  median_house_value ocean_proximity  \n",
       "0       322.0       126.0         8.3252            452600.0        NEAR BAY  \n",
       "1      2401.0      1138.0         8.3014            358500.0        NEAR BAY  \n",
       "2       496.0       177.0         7.2574            352100.0        NEAR BAY  \n",
       "3       558.0       219.0         5.6431            341300.0        NEAR BAY  \n",
       "4       565.0       259.0         3.8462            342200.0        NEAR BAY  "
      ]
     },
     "execution_count": 24,
     "metadata": {},
     "output_type": "execute_result"
    }
   ],
   "source": [
    "#loading the data using pandas\n",
    "import pandas as pd\n",
    "def load_housing_data(housing_path = HOUSING_PATH):\n",
    "    csv_path = os.path.join(housing_path,\"housing.csv\")\n",
    "    return pd.read_csv(csv_path)\n",
    "\n",
    "housing = load_housing_data()\n",
    "housing.head()"
   ]
  },
  {
   "cell_type": "code",
   "execution_count": 25,
   "id": "31b4c8b8-5469-40ae-9cd5-53182fa68d9c",
   "metadata": {},
   "outputs": [
    {
     "name": "stdout",
     "output_type": "stream",
     "text": [
      "<class 'pandas.core.frame.DataFrame'>\n",
      "RangeIndex: 20640 entries, 0 to 20639\n",
      "Data columns (total 10 columns):\n",
      " #   Column              Non-Null Count  Dtype  \n",
      "---  ------              --------------  -----  \n",
      " 0   longitude           20640 non-null  float64\n",
      " 1   latitude            20640 non-null  float64\n",
      " 2   housing_median_age  20640 non-null  float64\n",
      " 3   total_rooms         20640 non-null  float64\n",
      " 4   total_bedrooms      20433 non-null  float64\n",
      " 5   population          20640 non-null  float64\n",
      " 6   households          20640 non-null  float64\n",
      " 7   median_income       20640 non-null  float64\n",
      " 8   median_house_value  20640 non-null  float64\n",
      " 9   ocean_proximity     20640 non-null  object \n",
      "dtypes: float64(9), object(1)\n",
      "memory usage: 1.6+ MB\n"
     ]
    }
   ],
   "source": [
    "#let's take a look at the info\n",
    "housing.info()"
   ]
  },
  {
   "cell_type": "markdown",
   "id": "a1b5dca9-69ff-43a1-8f09-37c17c7ea3f4",
   "metadata": {},
   "source": [
    "We will move straight to our goal of solving the question without much analysis of the dataset. If anyone wants to see the analysis of this dataset they can check out my other jupyter notebook in the same repository."
   ]
  },
  {
   "cell_type": "code",
   "execution_count": 26,
   "id": "031bb9f0-cf58-4f15-a647-a4f3b7a8fe4f",
   "metadata": {},
   "outputs": [
    {
     "data": {
      "text/plain": [
       "<Axes: >"
      ]
     },
     "execution_count": 26,
     "metadata": {},
     "output_type": "execute_result"
    },
    {
     "data": {
      "image/png": "[encoded data removed]",
      "text/plain": [
       "<Figure size 640x480 with 1 Axes>"
      ]
     },
     "metadata": {},
     "output_type": "display_data"
    }
   ],
   "source": [
    "#our goal is to convert this continuous column into discrete so that we can use its frequency to take a stratified sample for our training set\n",
    "import numpy as np\n",
    "housing['income_cat'] = pd.cut(housing['median_income'], bins=[0., 1.5, 3.0, 4.5, 6., np.inf], labels=[1,2,3,4,5])\n",
    "housing['income_cat'].hist()"
   ]
  },
  {
   "cell_type": "code",
   "execution_count": 30,
   "id": "c99d4923-936a-464d-8052-3159dc9b69a5",
   "metadata": {},
   "outputs": [],
   "source": [
    "from sklearn.model_selection import StratifiedShuffleSplit\n",
    "strat_sampling = StratifiedShuffleSplit(n_splits=1, test_size=0.2, random_state=42)\n",
    "for train_index, test_index in strat_sampling.split(housing, housing.income_cat):\n",
    "    train_set = housing.loc[train_index]\n",
    "    test_set = housing.loc[test_index]\n",
    "train_set.drop('income_cat', axis=1, inplace=True)\n",
    "test_set.drop('income_cat', axis =1, inplace = True)"
   ]
  },
  {
   "cell_type": "code",
   "execution_count": 32,
   "id": "0d25909a-f54d-4392-8d47-6ef85b8cfa6f",
   "metadata": {},
   "outputs": [
    {
     "data": {
      "text/html": [
       "<div>\n",
       "<style scoped>\n",
       "    .dataframe tbody tr th:only-of-type {\n",
       "        vertical-align: middle;\n",
       "    }\n",
       "\n",
       "    .dataframe tbody tr th {\n",
       "        vertical-align: top;\n",
       "    }\n",
       "\n",
       "    .dataframe thead th {\n",
       "        text-align: right;\n",
       "    }\n",
       "</style>\n",
       "<table border=\"1\" class=\"dataframe\">\n",
       "  <thead>\n",
       "    <tr style=\"text-align: right;\">\n",
       "      <th></th>\n",
       "      <th>longitude</th>\n",
       "      <th>latitude</th>\n",
       "      <th>housing_median_age</th>\n",
       "      <th>total_rooms</th>\n",
       "      <th>total_bedrooms</th>\n",
       "      <th>population</th>\n",
       "      <th>households</th>\n",
       "      <th>median_income</th>\n",
       "      <th>median_house_value</th>\n",
       "      <th>ocean_proximity</th>\n",
       "    </tr>\n",
       "  </thead>\n",
       "  <tbody>\n",
       "    <tr>\n",
       "      <th>12655</th>\n",
       "      <td>-121.46</td>\n",
       "      <td>38.52</td>\n",
       "      <td>29.0</td>\n",
       "      <td>3873.0</td>\n",
       "      <td>797.0</td>\n",
       "      <td>2237.0</td>\n",
       "      <td>706.0</td>\n",
       "      <td>2.1736</td>\n",
       "      <td>72100.0</td>\n",
       "      <td>INLAND</td>\n",
       "    </tr>\n",
       "    <tr>\n",
       "      <th>15502</th>\n",
       "      <td>-117.23</td>\n",
       "      <td>33.09</td>\n",
       "      <td>7.0</td>\n",
       "      <td>5320.0</td>\n",
       "      <td>855.0</td>\n",
       "      <td>2015.0</td>\n",
       "      <td>768.0</td>\n",
       "      <td>6.3373</td>\n",
       "      <td>279600.0</td>\n",
       "      <td>NEAR OCEAN</td>\n",
       "    </tr>\n",
       "    <tr>\n",
       "      <th>2908</th>\n",
       "      <td>-119.04</td>\n",
       "      <td>35.37</td>\n",
       "      <td>44.0</td>\n",
       "      <td>1618.0</td>\n",
       "      <td>310.0</td>\n",
       "      <td>667.0</td>\n",
       "      <td>300.0</td>\n",
       "      <td>2.8750</td>\n",
       "      <td>82700.0</td>\n",
       "      <td>INLAND</td>\n",
       "    </tr>\n",
       "    <tr>\n",
       "      <th>14053</th>\n",
       "      <td>-117.13</td>\n",
       "      <td>32.75</td>\n",
       "      <td>24.0</td>\n",
       "      <td>1877.0</td>\n",
       "      <td>519.0</td>\n",
       "      <td>898.0</td>\n",
       "      <td>483.0</td>\n",
       "      <td>2.2264</td>\n",
       "      <td>112500.0</td>\n",
       "      <td>NEAR OCEAN</td>\n",
       "    </tr>\n",
       "    <tr>\n",
       "      <th>20496</th>\n",
       "      <td>-118.70</td>\n",
       "      <td>34.28</td>\n",
       "      <td>27.0</td>\n",
       "      <td>3536.0</td>\n",
       "      <td>646.0</td>\n",
       "      <td>1837.0</td>\n",
       "      <td>580.0</td>\n",
       "      <td>4.4964</td>\n",
       "      <td>238300.0</td>\n",
       "      <td>&lt;1H OCEAN</td>\n",
       "    </tr>\n",
       "  </tbody>\n",
       "</table>\n",
       "</div>"
      ],
      "text/plain": [
       "       longitude  latitude  housing_median_age  total_rooms  total_bedrooms  \\\n",
       "12655    -121.46     38.52                29.0       3873.0           797.0   \n",
       "15502    -117.23     33.09                 7.0       5320.0           855.0   \n",
       "2908     -119.04     35.37                44.0       1618.0           310.0   \n",
       "14053    -117.13     32.75                24.0       1877.0           519.0   \n",
       "20496    -118.70     34.28                27.0       3536.0           646.0   \n",
       "\n",
       "       population  households  median_income  median_house_value  \\\n",
       "12655      2237.0       706.0         2.1736             72100.0   \n",
       "15502      2015.0       768.0         6.3373            279600.0   \n",
       "2908        667.0       300.0         2.8750             82700.0   \n",
       "14053       898.0       483.0         2.2264            112500.0   \n",
       "20496      1837.0       580.0         4.4964            238300.0   \n",
       "\n",
       "      ocean_proximity  \n",
       "12655          INLAND  \n",
       "15502      NEAR OCEAN  \n",
       "2908           INLAND  \n",
       "14053      NEAR OCEAN  \n",
       "20496       <1H OCEAN  "
      ]
     },
     "execution_count": 32,
     "metadata": {},
     "output_type": "execute_result"
    }
   ],
   "source": [
    "train_set.head()"
   ]
  },
  {
   "cell_type": "code",
   "execution_count": 36,
   "id": "333fa2ee-7376-4518-a880-7562e827c850",
   "metadata": {},
   "outputs": [
    {
     "data": {
      "text/plain": [
       "array([[-0.94135046,  1.34743822,  0.02756357,  0.58477745,  0.64037127,\n",
       "         0.73260236,  0.55628602, -0.8936472 ,  0.        ,  1.        ,\n",
       "         0.        ,  0.        ,  0.        ],\n",
       "       [ 1.17178212, -1.19243966, -1.72201763,  1.26146668,  0.78156132,\n",
       "         0.53361152,  0.72131799,  1.292168  ,  0.        ,  0.        ,\n",
       "         0.        ,  0.        ,  1.        ],\n",
       "       [ 0.26758118, -0.1259716 ,  1.22045984, -0.46977281, -0.54513828,\n",
       "        -0.67467519, -0.52440722, -0.52543365,  0.        ,  1.        ,\n",
       "         0.        ,  0.        ,  0.        ],\n",
       "       [ 1.22173797, -1.35147437, -0.37006852, -0.34865152, -0.03636724,\n",
       "        -0.46761716, -0.03729672, -0.86592882,  0.        ,  0.        ,\n",
       "         0.        ,  0.        ,  1.        ],\n",
       "       [ 0.43743108, -0.63581817, -0.13148926,  0.42717947,  0.27279028,\n",
       "         0.37406031,  0.22089846,  0.32575178,  1.        ,  0.        ,\n",
       "         0.        ,  0.        ,  0.        ]])"
      ]
     },
     "execution_count": 36,
     "metadata": {},
     "output_type": "execute_result"
    }
   ],
   "source": [
    "#Now we have to impute the missing value in the total bedrooms column, scale all the numerical features and perform one hot encoding on the categorical variable\n",
    "#We will use a pipeline for these transformations\n",
    "from sklearn.pipeline import Pipeline\n",
    "from sklearn.preprocessing import StandardScaler\n",
    "from sklearn.impute import SimpleImputer\n",
    "from sklearn.compose import ColumnTransformer\n",
    "from sklearn.preprocessing import OneHotEncoder\n",
    "\n",
    "num_columns = train_set.drop(['ocean_proximity','median_house_value'], axis=1).columns.values\n",
    "cat_columns = ['ocean_proximity']\n",
    "\n",
    "num_pipeline = Pipeline([\n",
    "    ('imputer',SimpleImputer(strategy='median')),\n",
    "    ('scaler', StandardScaler())\n",
    "])\n",
    "\n",
    "cat_pipeline = Pipeline([\n",
    "    ('one_hot' , OneHotEncoder())\n",
    "])\n",
    "\n",
    "c_transformer1 = ColumnTransformer([\n",
    "    ('num', num_pipeline, num_columns),\n",
    "    ('col', cat_pipeline, cat_columns)\n",
    "])\n",
    "y_train = train_set['median_house_value']\n",
    "X= train_set.drop('median_house_value', axis=1)\n",
    "X_train = c_transformer1.fit_transform(X)\n",
    "X_train[:5]"
   ]
  },
  {
   "cell_type": "code",
   "execution_count": 40,
   "id": "d53b9fee-5e13-46e3-886c-03da612a074a",
   "metadata": {},
   "outputs": [
    {
     "name": "stdout",
     "output_type": "stream",
     "text": [
      "Fitting 3 folds for each of 9 candidates, totalling 27 fits\n",
      "[CV] END ................................C=20, kernel=linear; total time=   5.0s\n",
      "[CV] END ................................C=20, kernel=linear; total time=   4.6s\n",
      "[CV] END ................................C=20, kernel=linear; total time=   4.4s\n",
      "[CV] END ................................C=40, kernel=linear; total time=   4.4s\n",
      "[CV] END ................................C=40, kernel=linear; total time=   4.5s\n",
      "[CV] END ................................C=40, kernel=linear; total time=   4.9s\n",
      "[CV] END ................................C=60, kernel=linear; total time=   4.5s\n",
      "[CV] END ................................C=60, kernel=linear; total time=   4.5s\n",
      "[CV] END ................................C=60, kernel=linear; total time=   4.6s\n",
      "[CV] END ..........................C=20, gamma=6, kernel=rbf; total time=   9.8s\n",
      "[CV] END ..........................C=20, gamma=6, kernel=rbf; total time=  10.0s\n",
      "[CV] END ..........................C=20, gamma=6, kernel=rbf; total time=  10.3s\n",
      "[CV] END ..........................C=20, gamma=8, kernel=rbf; total time=  10.6s\n",
      "[CV] END ..........................C=20, gamma=8, kernel=rbf; total time=  11.0s\n",
      "[CV] END ..........................C=20, gamma=8, kernel=rbf; total time=  10.4s\n",
      "[CV] END ..........................C=40, gamma=6, kernel=rbf; total time=  10.4s\n",
      "[CV] END ..........................C=40, gamma=6, kernel=rbf; total time=   9.9s\n",
      "[CV] END ..........................C=40, gamma=6, kernel=rbf; total time=  10.0s\n",
      "[CV] END ..........................C=40, gamma=8, kernel=rbf; total time=  10.1s\n",
      "[CV] END ..........................C=40, gamma=8, kernel=rbf; total time=  10.0s\n",
      "[CV] END ..........................C=40, gamma=8, kernel=rbf; total time=   9.6s\n",
      "[CV] END ..........................C=60, gamma=6, kernel=rbf; total time=   9.8s\n",
      "[CV] END ..........................C=60, gamma=6, kernel=rbf; total time=   9.9s\n",
      "[CV] END ..........................C=60, gamma=6, kernel=rbf; total time=   9.8s\n",
      "[CV] END ..........................C=60, gamma=8, kernel=rbf; total time=  10.0s\n",
      "[CV] END ..........................C=60, gamma=8, kernel=rbf; total time=  10.1s\n",
      "[CV] END ..........................C=60, gamma=8, kernel=rbf; total time=  10.0s\n"
     ]
    },
    {
     "data": {
      "text/html": [
       "<style>#sk-container-id-1 {color: black;background-color: white;}#sk-container-id-1 pre{padding: 0;}#sk-container-id-1 div.sk-toggleable {background-color: white;}#sk-container-id-1 label.sk-toggleable__label {cursor: pointer;display: block;width: 100%;margin-bottom: 0;padding: 0.3em;box-sizing: border-box;text-align: center;}#sk-container-id-1 label.sk-toggleable__label-arrow:before {content: \"▸\";float: left;margin-right: 0.25em;color: #696969;}#sk-container-id-1 label.sk-toggleable__label-arrow:hover:before {color: black;}#sk-container-id-1 div.sk-estimator:hover label.sk-toggleable__label-arrow:before {color: black;}#sk-container-id-1 div.sk-toggleable__content {max-height: 0;max-width: 0;overflow: hidden;text-align: left;background-color: #f0f8ff;}#sk-container-id-1 div.sk-toggleable__content pre {margin: 0.2em;color: black;border-radius: 0.25em;background-color: #f0f8ff;}#sk-container-id-1 input.sk-toggleable__control:checked~div.sk-toggleable__content {max-height: 200px;max-width: 100%;overflow: auto;}#sk-container-id-1 input.sk-toggleable__control:checked~label.sk-toggleable__label-arrow:before {content: \"▾\";}#sk-container-id-1 div.sk-estimator input.sk-toggleable__control:checked~label.sk-toggleable__label {background-color: #d4ebff;}#sk-container-id-1 div.sk-label input.sk-toggleable__control:checked~label.sk-toggleable__label {background-color: #d4ebff;}#sk-container-id-1 input.sk-hidden--visually {border: 0;clip: rect(1px 1px 1px 1px);clip: rect(1px, 1px, 1px, 1px);height: 1px;margin: -1px;overflow: hidden;padding: 0;position: absolute;width: 1px;}#sk-container-id-1 div.sk-estimator {font-family: monospace;background-color: #f0f8ff;border: 1px dotted black;border-radius: 0.25em;box-sizing: border-box;margin-bottom: 0.5em;}#sk-container-id-1 div.sk-estimator:hover {background-color: #d4ebff;}#sk-container-id-1 div.sk-parallel-item::after {content: \"\";width: 100%;border-bottom: 1px solid gray;flex-grow: 1;}#sk-container-id-1 div.sk-label:hover label.sk-toggleable__label {background-color: #d4ebff;}#sk-container-id-1 div.sk-serial::before {content: \"\";position: absolute;border-left: 1px solid gray;box-sizing: border-box;top: 0;bottom: 0;left: 50%;z-index: 0;}#sk-container-id-1 div.sk-serial {display: flex;flex-direction: column;align-items: center;background-color: white;padding-right: 0.2em;padding-left: 0.2em;position: relative;}#sk-container-id-1 div.sk-item {position: relative;z-index: 1;}#sk-container-id-1 div.sk-parallel {display: flex;align-items: stretch;justify-content: center;background-color: white;position: relative;}#sk-container-id-1 div.sk-item::before, #sk-container-id-1 div.sk-parallel-item::before {content: \"\";position: absolute;border-left: 1px solid gray;box-sizing: border-box;top: 0;bottom: 0;left: 50%;z-index: -1;}#sk-container-id-1 div.sk-parallel-item {display: flex;flex-direction: column;z-index: 1;position: relative;background-color: white;}#sk-container-id-1 div.sk-parallel-item:first-child::after {align-self: flex-end;width: 50%;}#sk-container-id-1 div.sk-parallel-item:last-child::after {align-self: flex-start;width: 50%;}#sk-container-id-1 div.sk-parallel-item:only-child::after {width: 0;}#sk-container-id-1 div.sk-dashed-wrapped {border: 1px dashed gray;margin: 0 0.4em 0.5em 0.4em;box-sizing: border-box;padding-bottom: 0.4em;background-color: white;}#sk-container-id-1 div.sk-label label {font-family: monospace;font-weight: bold;display: inline-block;line-height: 1.2em;}#sk-container-id-1 div.sk-label-container {text-align: center;}#sk-container-id-1 div.sk-container {/* jupyter's `normalize.less` sets `[hidden] { display: none; }` but bootstrap.min.css set `[hidden] { display: none !important; }` so we also need the `!important` here to be able to override the default hidden behavior on the sphinx rendered scikit-learn.org. See: https://github.com/scikit-learn/scikit-learn/issues/21755 */display: inline-block !important;position: relative;}#sk-container-id-1 div.sk-text-repr-fallback {display: none;}</style><div id=\"sk-container-id-1\" class=\"sk-top-container\"><div class=\"sk-text-repr-fallback\"><pre>GridSearchCV(cv=3, estimator=SVR(),\n",
       "             param_grid=[{&#x27;C&#x27;: [20, 40, 60], &#x27;kernel&#x27;: [&#x27;linear&#x27;]},\n",
       "                         {&#x27;C&#x27;: [20, 40, 60], &#x27;gamma&#x27;: [6, 8],\n",
       "                          &#x27;kernel&#x27;: [&#x27;rbf&#x27;]}],\n",
       "             return_train_score=True, scoring=&#x27;neg_mean_squared_error&#x27;,\n",
       "             verbose=2)</pre><b>In a Jupyter environment, please rerun this cell to show the HTML representation or trust the notebook. <br />On GitHub, the HTML representation is unable to render, please try loading this page with nbviewer.org.</b></div><div class=\"sk-container\" hidden><div class=\"sk-item sk-dashed-wrapped\"><div class=\"sk-label-container\"><div class=\"sk-label sk-toggleable\"><input class=\"sk-toggleable__control sk-hidden--visually\" id=\"sk-estimator-id-1\" type=\"checkbox\" ><label for=\"sk-estimator-id-1\" class=\"sk-toggleable__label sk-toggleable__label-arrow\">GridSearchCV</label><div class=\"sk-toggleable__content\"><pre>GridSearchCV(cv=3, estimator=SVR(),\n",
       "             param_grid=[{&#x27;C&#x27;: [20, 40, 60], &#x27;kernel&#x27;: [&#x27;linear&#x27;]},\n",
       "                         {&#x27;C&#x27;: [20, 40, 60], &#x27;gamma&#x27;: [6, 8],\n",
       "                          &#x27;kernel&#x27;: [&#x27;rbf&#x27;]}],\n",
       "             return_train_score=True, scoring=&#x27;neg_mean_squared_error&#x27;,\n",
       "             verbose=2)</pre></div></div></div><div class=\"sk-parallel\"><div class=\"sk-parallel-item\"><div class=\"sk-item\"><div class=\"sk-label-container\"><div class=\"sk-label sk-toggleable\"><input class=\"sk-toggleable__control sk-hidden--visually\" id=\"sk-estimator-id-2\" type=\"checkbox\" ><label for=\"sk-estimator-id-2\" class=\"sk-toggleable__label sk-toggleable__label-arrow\">estimator: SVR</label><div class=\"sk-toggleable__content\"><pre>SVR()</pre></div></div></div><div class=\"sk-serial\"><div class=\"sk-item\"><div class=\"sk-estimator sk-toggleable\"><input class=\"sk-toggleable__control sk-hidden--visually\" id=\"sk-estimator-id-3\" type=\"checkbox\" ><label for=\"sk-estimator-id-3\" class=\"sk-toggleable__label sk-toggleable__label-arrow\">SVR</label><div class=\"sk-toggleable__content\"><pre>SVR()</pre></div></div></div></div></div></div></div></div></div></div>"
      ],
      "text/plain": [
       "GridSearchCV(cv=3, estimator=SVR(),\n",
       "             param_grid=[{'C': [20, 40, 60], 'kernel': ['linear']},\n",
       "                         {'C': [20, 40, 60], 'gamma': [6, 8],\n",
       "                          'kernel': ['rbf']}],\n",
       "             return_train_score=True, scoring='neg_mean_squared_error',\n",
       "             verbose=2)"
      ]
     },
     "execution_count": 40,
     "metadata": {},
     "output_type": "execute_result"
    }
   ],
   "source": [
    "#Now we have no missing values and the data has also been converted to numerical values. Let us solve our question now\n",
    "from sklearn.svm import SVR\n",
    "\n",
    "from sklearn.model_selection import GridSearchCV\n",
    "params = [\n",
    "    {'kernel':['linear'], 'C':[20,40,60]},\n",
    "    {'kernel':['rbf'], 'C':[20,40,60], 'gamma':[6,8]}\n",
    "]\n",
    "support_regressor = SVR()\n",
    "grid_model = GridSearchCV(support_regressor, param_grid=params, cv=3, scoring='neg_mean_squared_error', return_train_score=True, verbose =2)\n",
    "grid_model.fit(X_train, y_train)\n"
   ]
  },
  {
   "cell_type": "markdown",
   "id": "7b0baff1-c763-4657-a053-3fbc63b0ac69",
   "metadata": {},
   "source": [
    "The above model will be fitted (3+6)*3 = 27 times."
   ]
  },
  {
   "cell_type": "code",
   "execution_count": 41,
   "id": "dc73c9dc-b971-441e-8dfe-916096b5dcbf",
   "metadata": {},
   "outputs": [
    {
     "name": "stdout",
     "output_type": "stream",
     "text": [
      "79659.76090065695 {'C': 20, 'kernel': 'linear'}\n",
      "75298.9858229898 {'C': 40, 'kernel': 'linear'}\n",
      "73699.8774180053 {'C': 60, 'kernel': 'linear'}\n",
      "118871.35929038526 {'C': 20, 'gamma': 6, 'kernel': 'rbf'}\n",
      "118895.97083823607 {'C': 20, 'gamma': 8, 'kernel': 'rbf'}\n",
      "118805.28457731042 {'C': 40, 'gamma': 6, 'kernel': 'rbf'}\n",
      "118855.9480826383 {'C': 40, 'gamma': 8, 'kernel': 'rbf'}\n",
      "118747.57942773397 {'C': 60, 'gamma': 6, 'kernel': 'rbf'}\n",
      "118817.15500841939 {'C': 60, 'gamma': 8, 'kernel': 'rbf'}\n"
     ]
    }
   ],
   "source": [
    "results = grid_model.cv_results_\n",
    "for mean_score, params in zip(results['mean_test_score'], results['params']):\n",
    "    print(np.sqrt(-mean_score), params)"
   ]
  },
  {
   "cell_type": "code",
   "execution_count": 52,
   "id": "706d199a-8e2d-4fd8-8536-625898e5d0d8",
   "metadata": {},
   "outputs": [
    {
     "name": "stdout",
     "output_type": "stream",
     "text": [
      "70898.24275952141\n"
     ]
    }
   ],
   "source": [
    "svr_grid_model = grid_model.best_estimator_\n",
    "y_test = test_set['median_house_value']\n",
    "X_t = test_set.drop('median_house_value',axis =1)\n",
    "X_test = c_transformer1.fit_transform(X_t)\n",
    "from sklearn.metrics import mean_squared_error\n",
    "print(np.sqrt(mean_squared_error(y_test, svr_grid_model.predict(X_test))))"
   ]
  },
  {
   "cell_type": "markdown",
   "id": "f6aa2380-c8e9-41a9-92c6-1451478eb0ea",
   "metadata": {},
   "source": [
    "The best model we got by using GridSearchCV is performing very well even on the test set, in the next question we will try finding the best parameters using RandomizedSearchCV."
   ]
  },
  {
   "cell_type": "markdown",
   "id": "e8a06b62-3688-4b78-a325-4ebf9a82db28",
   "metadata": {},
   "source": [
    "### Question 2: Try replacing `GridSearchCV` with `RandomizedSearchCV`."
   ]
  },
  {
   "cell_type": "code",
   "execution_count": 50,
   "id": "617e23c6-3420-457b-adee-d2dcaafb5027",
   "metadata": {},
   "outputs": [
    {
     "name": "stdout",
     "output_type": "stream",
     "text": [
      "Fitting 3 folds for each of 10 candidates, totalling 30 fits\n",
      "[CV] END ........................C=24, gamma=202, kernel=rbf; total time=  10.1s\n",
      "[CV] END ........................C=24, gamma=202, kernel=rbf; total time=   9.5s\n",
      "[CV] END ........................C=24, gamma=202, kernel=rbf; total time=   9.5s\n",
      "[CV] END .....................C=22, gamma=200, kernel=linear; total time=   4.4s\n",
      "[CV] END .....................C=22, gamma=200, kernel=linear; total time=   4.3s\n",
      "[CV] END .....................C=22, gamma=200, kernel=linear; total time=   4.5s\n",
      "[CV] END .....................C=21, gamma=203, kernel=linear; total time=   4.4s\n",
      "[CV] END .....................C=21, gamma=203, kernel=linear; total time=   4.5s\n",
      "[CV] END .....................C=21, gamma=203, kernel=linear; total time=   4.5s\n",
      "[CV] END .....................C=23, gamma=200, kernel=linear; total time=   4.4s\n",
      "[CV] END .....................C=23, gamma=200, kernel=linear; total time=   4.5s\n",
      "[CV] END .....................C=23, gamma=200, kernel=linear; total time=   4.5s\n",
      "[CV] END .....................C=20, gamma=200, kernel=linear; total time=   4.4s\n",
      "[CV] END .....................C=20, gamma=200, kernel=linear; total time=   4.6s\n",
      "[CV] END .....................C=20, gamma=200, kernel=linear; total time=   4.4s\n",
      "[CV] END .....................C=24, gamma=201, kernel=linear; total time=   4.8s\n",
      "[CV] END .....................C=24, gamma=201, kernel=linear; total time=   4.4s\n",
      "[CV] END .....................C=24, gamma=201, kernel=linear; total time=   4.7s\n",
      "[CV] END ........................C=21, gamma=203, kernel=rbf; total time=   9.5s\n",
      "[CV] END ........................C=21, gamma=203, kernel=rbf; total time=   9.8s\n",
      "[CV] END ........................C=21, gamma=203, kernel=rbf; total time=   9.5s\n",
      "[CV] END .....................C=20, gamma=201, kernel=linear; total time=   4.5s\n",
      "[CV] END .....................C=20, gamma=201, kernel=linear; total time=   4.6s\n",
      "[CV] END .....................C=20, gamma=201, kernel=linear; total time=   4.4s\n",
      "[CV] END .....................C=24, gamma=200, kernel=linear; total time=   4.5s\n",
      "[CV] END .....................C=24, gamma=200, kernel=linear; total time=   4.5s\n",
      "[CV] END .....................C=24, gamma=200, kernel=linear; total time=   4.4s\n",
      "[CV] END ........................C=20, gamma=200, kernel=rbf; total time=   9.5s\n",
      "[CV] END ........................C=20, gamma=200, kernel=rbf; total time=   9.7s\n",
      "[CV] END ........................C=20, gamma=200, kernel=rbf; total time=   9.8s\n"
     ]
    },
    {
     "data": {
      "text/html": [
       "<style>#sk-container-id-2 {color: black;background-color: white;}#sk-container-id-2 pre{padding: 0;}#sk-container-id-2 div.sk-toggleable {background-color: white;}#sk-container-id-2 label.sk-toggleable__label {cursor: pointer;display: block;width: 100%;margin-bottom: 0;padding: 0.3em;box-sizing: border-box;text-align: center;}#sk-container-id-2 label.sk-toggleable__label-arrow:before {content: \"▸\";float: left;margin-right: 0.25em;color: #696969;}#sk-container-id-2 label.sk-toggleable__label-arrow:hover:before {color: black;}#sk-container-id-2 div.sk-estimator:hover label.sk-toggleable__label-arrow:before {color: black;}#sk-container-id-2 div.sk-toggleable__content {max-height: 0;max-width: 0;overflow: hidden;text-align: left;background-color: #f0f8ff;}#sk-container-id-2 div.sk-toggleable__content pre {margin: 0.2em;color: black;border-radius: 0.25em;background-color: #f0f8ff;}#sk-container-id-2 input.sk-toggleable__control:checked~div.sk-toggleable__content {max-height: 200px;max-width: 100%;overflow: auto;}#sk-container-id-2 input.sk-toggleable__control:checked~label.sk-toggleable__label-arrow:before {content: \"▾\";}#sk-container-id-2 div.sk-estimator input.sk-toggleable__control:checked~label.sk-toggleable__label {background-color: #d4ebff;}#sk-container-id-2 div.sk-label input.sk-toggleable__control:checked~label.sk-toggleable__label {background-color: #d4ebff;}#sk-container-id-2 input.sk-hidden--visually {border: 0;clip: rect(1px 1px 1px 1px);clip: rect(1px, 1px, 1px, 1px);height: 1px;margin: -1px;overflow: hidden;padding: 0;position: absolute;width: 1px;}#sk-container-id-2 div.sk-estimator {font-family: monospace;background-color: #f0f8ff;border: 1px dotted black;border-radius: 0.25em;box-sizing: border-box;margin-bottom: 0.5em;}#sk-container-id-2 div.sk-estimator:hover {background-color: #d4ebff;}#sk-container-id-2 div.sk-parallel-item::after {content: \"\";width: 100%;border-bottom: 1px solid gray;flex-grow: 1;}#sk-container-id-2 div.sk-label:hover label.sk-toggleable__label {background-color: #d4ebff;}#sk-container-id-2 div.sk-serial::before {content: \"\";position: absolute;border-left: 1px solid gray;box-sizing: border-box;top: 0;bottom: 0;left: 50%;z-index: 0;}#sk-container-id-2 div.sk-serial {display: flex;flex-direction: column;align-items: center;background-color: white;padding-right: 0.2em;padding-left: 0.2em;position: relative;}#sk-container-id-2 div.sk-item {position: relative;z-index: 1;}#sk-container-id-2 div.sk-parallel {display: flex;align-items: stretch;justify-content: center;background-color: white;position: relative;}#sk-container-id-2 div.sk-item::before, #sk-container-id-2 div.sk-parallel-item::before {content: \"\";position: absolute;border-left: 1px solid gray;box-sizing: border-box;top: 0;bottom: 0;left: 50%;z-index: -1;}#sk-container-id-2 div.sk-parallel-item {display: flex;flex-direction: column;z-index: 1;position: relative;background-color: white;}#sk-container-id-2 div.sk-parallel-item:first-child::after {align-self: flex-end;width: 50%;}#sk-container-id-2 div.sk-parallel-item:last-child::after {align-self: flex-start;width: 50%;}#sk-container-id-2 div.sk-parallel-item:only-child::after {width: 0;}#sk-container-id-2 div.sk-dashed-wrapped {border: 1px dashed gray;margin: 0 0.4em 0.5em 0.4em;box-sizing: border-box;padding-bottom: 0.4em;background-color: white;}#sk-container-id-2 div.sk-label label {font-family: monospace;font-weight: bold;display: inline-block;line-height: 1.2em;}#sk-container-id-2 div.sk-label-container {text-align: center;}#sk-container-id-2 div.sk-container {/* jupyter's `normalize.less` sets `[hidden] { display: none; }` but bootstrap.min.css set `[hidden] { display: none !important; }` so we also need the `!important` here to be able to override the default hidden behavior on the sphinx rendered scikit-learn.org. See: https://github.com/scikit-learn/scikit-learn/issues/21755 */display: inline-block !important;position: relative;}#sk-container-id-2 div.sk-text-repr-fallback {display: none;}</style><div id=\"sk-container-id-2\" class=\"sk-top-container\"><div class=\"sk-text-repr-fallback\"><pre>RandomizedSearchCV(cv=3, estimator=SVR(),\n",
       "                   param_distributions=[{&#x27;C&#x27;: [20, 21, 22, 23, 24],\n",
       "                                         &#x27;gamma&#x27;: [200, 201, 202, 203, 204],\n",
       "                                         &#x27;kernel&#x27;: [&#x27;linear&#x27;, &#x27;rbf&#x27;]}],\n",
       "                   scoring=&#x27;neg_mean_squared_error&#x27;, verbose=2)</pre><b>In a Jupyter environment, please rerun this cell to show the HTML representation or trust the notebook. <br />On GitHub, the HTML representation is unable to render, please try loading this page with nbviewer.org.</b></div><div class=\"sk-container\" hidden><div class=\"sk-item sk-dashed-wrapped\"><div class=\"sk-label-container\"><div class=\"sk-label sk-toggleable\"><input class=\"sk-toggleable__control sk-hidden--visually\" id=\"sk-estimator-id-4\" type=\"checkbox\" ><label for=\"sk-estimator-id-4\" class=\"sk-toggleable__label sk-toggleable__label-arrow\">RandomizedSearchCV</label><div class=\"sk-toggleable__content\"><pre>RandomizedSearchCV(cv=3, estimator=SVR(),\n",
       "                   param_distributions=[{&#x27;C&#x27;: [20, 21, 22, 23, 24],\n",
       "                                         &#x27;gamma&#x27;: [200, 201, 202, 203, 204],\n",
       "                                         &#x27;kernel&#x27;: [&#x27;linear&#x27;, &#x27;rbf&#x27;]}],\n",
       "                   scoring=&#x27;neg_mean_squared_error&#x27;, verbose=2)</pre></div></div></div><div class=\"sk-parallel\"><div class=\"sk-parallel-item\"><div class=\"sk-item\"><div class=\"sk-label-container\"><div class=\"sk-label sk-toggleable\"><input class=\"sk-toggleable__control sk-hidden--visually\" id=\"sk-estimator-id-5\" type=\"checkbox\" ><label for=\"sk-estimator-id-5\" class=\"sk-toggleable__label sk-toggleable__label-arrow\">estimator: SVR</label><div class=\"sk-toggleable__content\"><pre>SVR()</pre></div></div></div><div class=\"sk-serial\"><div class=\"sk-item\"><div class=\"sk-estimator sk-toggleable\"><input class=\"sk-toggleable__control sk-hidden--visually\" id=\"sk-estimator-id-6\" type=\"checkbox\" ><label for=\"sk-estimator-id-6\" class=\"sk-toggleable__label sk-toggleable__label-arrow\">SVR</label><div class=\"sk-toggleable__content\"><pre>SVR()</pre></div></div></div></div></div></div></div></div></div></div>"
      ],
      "text/plain": [
       "RandomizedSearchCV(cv=3, estimator=SVR(),\n",
       "                   param_distributions=[{'C': [20, 21, 22, 23, 24],\n",
       "                                         'gamma': [200, 201, 202, 203, 204],\n",
       "                                         'kernel': ['linear', 'rbf']}],\n",
       "                   scoring='neg_mean_squared_error', verbose=2)"
      ]
     },
     "execution_count": 50,
     "metadata": {},
     "output_type": "execute_result"
    }
   ],
   "source": [
    "from sklearn.model_selection import RandomizedSearchCV\n",
    "paramgrid = [\n",
    "    {'kernel':['linear', 'rbf'], 'C':[i for i in range(20,25)], 'gamma':[i for i in range(200,205)]}\n",
    "]\n",
    "\n",
    "svr= SVR()\n",
    "rndm_model = RandomizedSearchCV(svr, param_distributions= paramgrid, cv=3, scoring='neg_mean_squared_error', n_iter =10, verbose =2)\n",
    "rndm_model.fit(X_train, y_train)"
   ]
  },
  {
   "cell_type": "code",
   "execution_count": 51,
   "id": "65c4f183-493d-4914-a5b0-6aae758db449",
   "metadata": {},
   "outputs": [
    {
     "name": "stdout",
     "output_type": "stream",
     "text": [
      "118930.85366093068 {'kernel': 'rbf', 'gamma': 202, 'C': 24}\n",
      "78970.42741499677 {'kernel': 'linear', 'gamma': 200, 'C': 22}\n",
      "79313.64659256501 {'kernel': 'linear', 'gamma': 203, 'C': 21}\n",
      "78590.44555422779 {'kernel': 'linear', 'gamma': 200, 'C': 23}\n",
      "79659.76090065695 {'kernel': 'linear', 'gamma': 200, 'C': 20}\n",
      "78234.31625992691 {'kernel': 'linear', 'gamma': 201, 'C': 24}\n",
      "118930.85110977007 {'kernel': 'rbf', 'gamma': 203, 'C': 21}\n",
      "79659.76090065695 {'kernel': 'linear', 'gamma': 201, 'C': 20}\n",
      "78234.31625992691 {'kernel': 'linear', 'gamma': 200, 'C': 24}\n",
      "118930.84784983096 {'kernel': 'rbf', 'gamma': 200, 'C': 20}\n"
     ]
    }
   ],
   "source": [
    "results = rndm_model.cv_results_\n",
    "for mean_score, params in zip(results['mean_test_score'], results['params']):\n",
    "    print(np.sqrt(-mean_score), params)"
   ]
  },
  {
   "cell_type": "code",
   "execution_count": 53,
   "id": "377ff586-071c-4fdb-98a0-b043b6854432",
   "metadata": {},
   "outputs": [
    {
     "name": "stdout",
     "output_type": "stream",
     "text": [
      "74099.59740895333\n"
     ]
    }
   ],
   "source": [
    "svr_rndm_model = rndm_model.best_estimator_\n",
    "print(np.sqrt(mean_squared_error(y_test, svr_rndm_model.predict(X_test))))"
   ]
  },
  {
   "cell_type": "markdown",
   "id": "92216493-2b52-406e-8b33-8c4f243e04aa",
   "metadata": {},
   "source": [
    "RandomizedSearchCV took less time to find the best parameters and it is also performing pretty well on the test set. For further questions we will proceed with the best model given to us by RandomizedSearchCV. There is no particular reason for it, but just for fun."
   ]
  },
  {
   "cell_type": "markdown",
   "id": "34ed5700-3e5b-41e9-b4a2-ed0212b35edf",
   "metadata": {},
   "source": [
    "### Question 3: Try adding a transformer in the preparation pipeline to select only the most important attributes."
   ]
  },
  {
   "cell_type": "markdown",
   "id": "48f5b038-28dc-41c9-bbf1-e4873f811f61",
   "metadata": {},
   "source": [
    "Let us formulate the question in a simpler way: Since we have already trained a model, we will use some method to get feature importance scores, we will then use those scores to shortlist only the important features by adding a custom transformer in the data preparation pipeline."
   ]
  },
  {
   "cell_type": "code",
   "execution_count": 65,
   "id": "e4262037-a6da-46d4-9a3d-f67932101cc3",
   "metadata": {},
   "outputs": [
    {
     "data": {
      "text/plain": [
       "['longitude',\n",
       " 'latitude',\n",
       " 'housing_median_age',\n",
       " 'total_rooms',\n",
       " 'total_bedrooms',\n",
       " 'population',\n",
       " 'households',\n",
       " 'median_income',\n",
       " '<1H OCEAN',\n",
       " 'INLAND',\n",
       " 'ISLAND',\n",
       " 'NEAR BAY',\n",
       " 'NEAR OCEAN']"
      ]
     },
     "execution_count": 65,
     "metadata": {},
     "output_type": "execute_result"
    }
   ],
   "source": [
    "#let's find out the important attributes using the permutaion_importance feature available in sklearn.\n",
    "from sklearn.inspection import permutation_importance\n",
    "importance_scores = permutation_importance(svr_rndm_model, X_test, y_test, scoring = 'r2') \n",
    "clmn1 =list(X.columns.values[:-1])\n",
    "clmn2=list(c_transformer1.named_transformers_['col'].named_steps['one_hot'].categories_[0])\n",
    "clmns = clmn1+clmn2\n",
    "clmns"
   ]
  },
  {
   "cell_type": "code",
   "execution_count": 70,
   "id": "d3f8705a-6a41-4f24-ae85-d2d491b786be",
   "metadata": {},
   "outputs": [
    {
     "data": {
      "text/html": [
       "<div>\n",
       "<style scoped>\n",
       "    .dataframe tbody tr th:only-of-type {\n",
       "        vertical-align: middle;\n",
       "    }\n",
       "\n",
       "    .dataframe tbody tr th {\n",
       "        vertical-align: top;\n",
       "    }\n",
       "\n",
       "    .dataframe thead th {\n",
       "        text-align: right;\n",
       "    }\n",
       "</style>\n",
       "<table border=\"1\" class=\"dataframe\">\n",
       "  <thead>\n",
       "    <tr style=\"text-align: right;\">\n",
       "      <th></th>\n",
       "      <th>importance_means</th>\n",
       "      <th>column_name</th>\n",
       "    </tr>\n",
       "  </thead>\n",
       "  <tbody>\n",
       "    <tr>\n",
       "      <th>7</th>\n",
       "      <td>0.687099</td>\n",
       "      <td>median_income</td>\n",
       "    </tr>\n",
       "    <tr>\n",
       "      <th>9</th>\n",
       "      <td>0.068440</td>\n",
       "      <td>INLAND</td>\n",
       "    </tr>\n",
       "    <tr>\n",
       "      <th>0</th>\n",
       "      <td>0.051503</td>\n",
       "      <td>longitude</td>\n",
       "    </tr>\n",
       "    <tr>\n",
       "      <th>1</th>\n",
       "      <td>0.046495</td>\n",
       "      <td>latitude</td>\n",
       "    </tr>\n",
       "    <tr>\n",
       "      <th>5</th>\n",
       "      <td>0.045352</td>\n",
       "      <td>population</td>\n",
       "    </tr>\n",
       "    <tr>\n",
       "      <th>2</th>\n",
       "      <td>0.018435</td>\n",
       "      <td>housing_median_age</td>\n",
       "    </tr>\n",
       "    <tr>\n",
       "      <th>6</th>\n",
       "      <td>0.014648</td>\n",
       "      <td>households</td>\n",
       "    </tr>\n",
       "    <tr>\n",
       "      <th>4</th>\n",
       "      <td>0.013910</td>\n",
       "      <td>total_bedrooms</td>\n",
       "    </tr>\n",
       "    <tr>\n",
       "      <th>8</th>\n",
       "      <td>0.010231</td>\n",
       "      <td>&lt;1H OCEAN</td>\n",
       "    </tr>\n",
       "    <tr>\n",
       "      <th>12</th>\n",
       "      <td>0.007304</td>\n",
       "      <td>NEAR OCEAN</td>\n",
       "    </tr>\n",
       "    <tr>\n",
       "      <th>3</th>\n",
       "      <td>0.003511</td>\n",
       "      <td>total_rooms</td>\n",
       "    </tr>\n",
       "    <tr>\n",
       "      <th>11</th>\n",
       "      <td>0.003357</td>\n",
       "      <td>NEAR BAY</td>\n",
       "    </tr>\n",
       "    <tr>\n",
       "      <th>10</th>\n",
       "      <td>0.000001</td>\n",
       "      <td>ISLAND</td>\n",
       "    </tr>\n",
       "  </tbody>\n",
       "</table>\n",
       "</div>"
      ],
      "text/plain": [
       "    importance_means         column_name\n",
       "7           0.687099       median_income\n",
       "9           0.068440              INLAND\n",
       "0           0.051503           longitude\n",
       "1           0.046495            latitude\n",
       "5           0.045352          population\n",
       "2           0.018435  housing_median_age\n",
       "6           0.014648          households\n",
       "4           0.013910      total_bedrooms\n",
       "8           0.010231           <1H OCEAN\n",
       "12          0.007304          NEAR OCEAN\n",
       "3           0.003511         total_rooms\n",
       "11          0.003357            NEAR BAY\n",
       "10          0.000001              ISLAND"
      ]
     },
     "execution_count": 70,
     "metadata": {},
     "output_type": "execute_result"
    }
   ],
   "source": [
    "pd.DataFrame({\"importance_means\":importance_scores.importances_mean,\"column_name\": clmns}).sort_values('importance_means', ascending=False)"
   ]
  },
  {
   "cell_type": "code",
   "execution_count": 85,
   "id": "0c3f4721-bf59-4663-9626-7af014b582fe",
   "metadata": {},
   "outputs": [],
   "source": [
    "#now we have a list of importance scores and a list of all the column named that were present in our training dataset\n",
    "#let us create a custom transformer in which we will input there scores and an integer k denoting how many features we want to select.\n",
    "\n",
    "from sklearn.base import BaseEstimator, TransformerMixin\n",
    "class KImportantFeatures(BaseEstimator, TransformerMixin):\n",
    "    def __init__(self, importance_scores, K):\n",
    "        self.importance_scores = importance_scores\n",
    "        self.K= K\n",
    "    @staticmethod\n",
    "    def get_indices(scores, k):\n",
    "        return np.argsort(scores)[-k:]\n",
    "        \n",
    "    def fit(self, X, y=None):\n",
    "        self.feature_indices_ = self.get_indices(self.importance_scores, self.K)\n",
    "        return self\n",
    "    def transform(self, X):\n",
    "        return X[:,self.feature_indices_]\n",
    "        "
   ]
  },
  {
   "cell_type": "code",
   "execution_count": 91,
   "id": "98891602-0ea8-4982-aaf3-757f97d84416",
   "metadata": {},
   "outputs": [
    {
     "data": {
      "text/plain": [
       "array([[ 1.34743822, -0.94135046,  1.        , -0.8936472 ],\n",
       "       [-1.19243966,  1.17178212,  0.        ,  1.292168  ],\n",
       "       [-0.1259716 ,  0.26758118,  1.        , -0.52543365],\n",
       "       ...,\n",
       "       [ 1.31001828, -1.5707942 ,  0.        , -0.36547546],\n",
       "       [ 1.2492109 , -1.56080303,  0.        ,  0.16826095],\n",
       "       [ 2.02567448, -1.28105026,  1.        , -0.390569  ]])"
      ]
     },
     "execution_count": 91,
     "metadata": {},
     "output_type": "execute_result"
    }
   ],
   "source": [
    "#let's try out this custom transformer\n",
    "important4= KImportantFeatures(importance_scores.importances_mean, 4)\n",
    "X_important = important4.fit_transform(X_train)\n",
    "X_important"
   ]
  },
  {
   "cell_type": "code",
   "execution_count": 94,
   "id": "4cf91056-48c0-4939-832f-0ab87a73e71b",
   "metadata": {},
   "outputs": [
    {
     "data": {
      "text/plain": [
       "array([[ 0.73260236,  1.34743822, -0.94135046,  1.        , -0.8936472 ],\n",
       "       [ 0.53361152, -1.19243966,  1.17178212,  0.        ,  1.292168  ],\n",
       "       [-0.67467519, -0.1259716 ,  0.26758118,  1.        , -0.52543365],\n",
       "       [-0.46761716, -1.35147437,  1.22173797,  0.        , -0.86592882],\n",
       "       [ 0.37406031, -0.63581817,  0.43743108,  0.        ,  0.32575178]])"
      ]
     },
     "execution_count": 94,
     "metadata": {},
     "output_type": "execute_result"
    }
   ],
   "source": [
    "#the class is working fine let's add it to the pipeline\n",
    "final_pipeline = Pipeline([\n",
    "    ('full_pipeline', c_transformer1),\n",
    "    ('feature_selection',KImportantFeatures(importance_scores.importances_mean,5) )\n",
    "])\n",
    "X_final = final_pipeline.fit_transform(X)\n",
    "X_final[:5]"
   ]
  },
  {
   "cell_type": "markdown",
   "id": "ff7b4f44-c325-4b21-b368-4aafda8c3d9a",
   "metadata": {},
   "source": [
    "We have successfully created our pipeline and implemented it for feature selection."
   ]
  },
  {
   "cell_type": "markdown",
   "id": "7e0e2529-72e4-4113-86d5-3565a586c9ac",
   "metadata": {},
   "source": [
    "### Question 4: Try creating a single pipeline that does the full data preparation plus the final prediction."
   ]
  },
  {
   "cell_type": "code",
   "execution_count": 102,
   "id": "ee84c5e1-3798-4efa-909c-5b5d05d155f2",
   "metadata": {},
   "outputs": [
    {
     "data": {
      "text/html": [
       "<style>#sk-container-id-5 {color: black;background-color: white;}#sk-container-id-5 pre{padding: 0;}#sk-container-id-5 div.sk-toggleable {background-color: white;}#sk-container-id-5 label.sk-toggleable__label {cursor: pointer;display: block;width: 100%;margin-bottom: 0;padding: 0.3em;box-sizing: border-box;text-align: center;}#sk-container-id-5 label.sk-toggleable__label-arrow:before {content: \"▸\";float: left;margin-right: 0.25em;color: #696969;}#sk-container-id-5 label.sk-toggleable__label-arrow:hover:before {color: black;}#sk-container-id-5 div.sk-estimator:hover label.sk-toggleable__label-arrow:before {color: black;}#sk-container-id-5 div.sk-toggleable__content {max-height: 0;max-width: 0;overflow: hidden;text-align: left;background-color: #f0f8ff;}#sk-container-id-5 div.sk-toggleable__content pre {margin: 0.2em;color: black;border-radius: 0.25em;background-color: #f0f8ff;}#sk-container-id-5 input.sk-toggleable__control:checked~div.sk-toggleable__content {max-height: 200px;max-width: 100%;overflow: auto;}#sk-container-id-5 input.sk-toggleable__control:checked~label.sk-toggleable__label-arrow:before {content: \"▾\";}#sk-container-id-5 div.sk-estimator input.sk-toggleable__control:checked~label.sk-toggleable__label {background-color: #d4ebff;}#sk-container-id-5 div.sk-label input.sk-toggleable__control:checked~label.sk-toggleable__label {background-color: #d4ebff;}#sk-container-id-5 input.sk-hidden--visually {border: 0;clip: rect(1px 1px 1px 1px);clip: rect(1px, 1px, 1px, 1px);height: 1px;margin: -1px;overflow: hidden;padding: 0;position: absolute;width: 1px;}#sk-container-id-5 div.sk-estimator {font-family: monospace;background-color: #f0f8ff;border: 1px dotted black;border-radius: 0.25em;box-sizing: border-box;margin-bottom: 0.5em;}#sk-container-id-5 div.sk-estimator:hover {background-color: #d4ebff;}#sk-container-id-5 div.sk-parallel-item::after {content: \"\";width: 100%;border-bottom: 1px solid gray;flex-grow: 1;}#sk-container-id-5 div.sk-label:hover label.sk-toggleable__label {background-color: #d4ebff;}#sk-container-id-5 div.sk-serial::before {content: \"\";position: absolute;border-left: 1px solid gray;box-sizing: border-box;top: 0;bottom: 0;left: 50%;z-index: 0;}#sk-container-id-5 div.sk-serial {display: flex;flex-direction: column;align-items: center;background-color: white;padding-right: 0.2em;padding-left: 0.2em;position: relative;}#sk-container-id-5 div.sk-item {position: relative;z-index: 1;}#sk-container-id-5 div.sk-parallel {display: flex;align-items: stretch;justify-content: center;background-color: white;position: relative;}#sk-container-id-5 div.sk-item::before, #sk-container-id-5 div.sk-parallel-item::before {content: \"\";position: absolute;border-left: 1px solid gray;box-sizing: border-box;top: 0;bottom: 0;left: 50%;z-index: -1;}#sk-container-id-5 div.sk-parallel-item {display: flex;flex-direction: column;z-index: 1;position: relative;background-color: white;}#sk-container-id-5 div.sk-parallel-item:first-child::after {align-self: flex-end;width: 50%;}#sk-container-id-5 div.sk-parallel-item:last-child::after {align-self: flex-start;width: 50%;}#sk-container-id-5 div.sk-parallel-item:only-child::after {width: 0;}#sk-container-id-5 div.sk-dashed-wrapped {border: 1px dashed gray;margin: 0 0.4em 0.5em 0.4em;box-sizing: border-box;padding-bottom: 0.4em;background-color: white;}#sk-container-id-5 div.sk-label label {font-family: monospace;font-weight: bold;display: inline-block;line-height: 1.2em;}#sk-container-id-5 div.sk-label-container {text-align: center;}#sk-container-id-5 div.sk-container {/* jupyter's `normalize.less` sets `[hidden] { display: none; }` but bootstrap.min.css set `[hidden] { display: none !important; }` so we also need the `!important` here to be able to override the default hidden behavior on the sphinx rendered scikit-learn.org. See: https://github.com/scikit-learn/scikit-learn/issues/21755 */display: inline-block !important;position: relative;}#sk-container-id-5 div.sk-text-repr-fallback {display: none;}</style><div id=\"sk-container-id-5\" class=\"sk-top-container\"><div class=\"sk-text-repr-fallback\"><pre>Pipeline(steps=[(&#x27;full_pipeline&#x27;,\n",
       "                 ColumnTransformer(transformers=[(&#x27;num&#x27;,\n",
       "                                                  Pipeline(steps=[(&#x27;imputer&#x27;,\n",
       "                                                                   SimpleImputer(strategy=&#x27;median&#x27;)),\n",
       "                                                                  (&#x27;scaler&#x27;,\n",
       "                                                                   StandardScaler())]),\n",
       "                                                  array([&#x27;longitude&#x27;, &#x27;latitude&#x27;, &#x27;housing_median_age&#x27;, &#x27;total_rooms&#x27;,\n",
       "       &#x27;total_bedrooms&#x27;, &#x27;population&#x27;, &#x27;households&#x27;, &#x27;median_income&#x27;],\n",
       "      dtype=object)),\n",
       "                                                 (&#x27;col&#x27;,\n",
       "                                                  Pipeline(steps=[(&#x27;one_hot&#x27;,\n",
       "                                                                   OneHotEncoder())]),\n",
       "                                                  [&#x27;ocean_proximity&#x27;])])),\n",
       "                (&#x27;feature_selection&#x27;,\n",
       "                 KImportantFeatures(K=5,\n",
       "                                    importance_scores=array([5.15031491e-02, 4.64953753e-02, 1.84353388e-02, 3.51135968e-03,\n",
       "       1.39103301e-02, 4.53517613e-02, 1.46484281e-02, 6.87098556e-01,\n",
       "       1.02306354e-02, 6.84403012e-02, 1.21781760e-06, 3.35675664e-03,\n",
       "       7.30368499e-03]))),\n",
       "                (&#x27;prediction&#x27;, SVR(C=24, gamma=201, kernel=&#x27;linear&#x27;))])</pre><b>In a Jupyter environment, please rerun this cell to show the HTML representation or trust the notebook. <br />On GitHub, the HTML representation is unable to render, please try loading this page with nbviewer.org.</b></div><div class=\"sk-container\" hidden><div class=\"sk-item sk-dashed-wrapped\"><div class=\"sk-label-container\"><div class=\"sk-label sk-toggleable\"><input class=\"sk-toggleable__control sk-hidden--visually\" id=\"sk-estimator-id-24\" type=\"checkbox\" ><label for=\"sk-estimator-id-24\" class=\"sk-toggleable__label sk-toggleable__label-arrow\">Pipeline</label><div class=\"sk-toggleable__content\"><pre>Pipeline(steps=[(&#x27;full_pipeline&#x27;,\n",
       "                 ColumnTransformer(transformers=[(&#x27;num&#x27;,\n",
       "                                                  Pipeline(steps=[(&#x27;imputer&#x27;,\n",
       "                                                                   SimpleImputer(strategy=&#x27;median&#x27;)),\n",
       "                                                                  (&#x27;scaler&#x27;,\n",
       "                                                                   StandardScaler())]),\n",
       "                                                  array([&#x27;longitude&#x27;, &#x27;latitude&#x27;, &#x27;housing_median_age&#x27;, &#x27;total_rooms&#x27;,\n",
       "       &#x27;total_bedrooms&#x27;, &#x27;population&#x27;, &#x27;households&#x27;, &#x27;median_income&#x27;],\n",
       "      dtype=object)),\n",
       "                                                 (&#x27;col&#x27;,\n",
       "                                                  Pipeline(steps=[(&#x27;one_hot&#x27;,\n",
       "                                                                   OneHotEncoder())]),\n",
       "                                                  [&#x27;ocean_proximity&#x27;])])),\n",
       "                (&#x27;feature_selection&#x27;,\n",
       "                 KImportantFeatures(K=5,\n",
       "                                    importance_scores=array([5.15031491e-02, 4.64953753e-02, 1.84353388e-02, 3.51135968e-03,\n",
       "       1.39103301e-02, 4.53517613e-02, 1.46484281e-02, 6.87098556e-01,\n",
       "       1.02306354e-02, 6.84403012e-02, 1.21781760e-06, 3.35675664e-03,\n",
       "       7.30368499e-03]))),\n",
       "                (&#x27;prediction&#x27;, SVR(C=24, gamma=201, kernel=&#x27;linear&#x27;))])</pre></div></div></div><div class=\"sk-serial\"><div class=\"sk-item sk-dashed-wrapped\"><div class=\"sk-label-container\"><div class=\"sk-label sk-toggleable\"><input class=\"sk-toggleable__control sk-hidden--visually\" id=\"sk-estimator-id-25\" type=\"checkbox\" ><label for=\"sk-estimator-id-25\" class=\"sk-toggleable__label sk-toggleable__label-arrow\">full_pipeline: ColumnTransformer</label><div class=\"sk-toggleable__content\"><pre>ColumnTransformer(transformers=[(&#x27;num&#x27;,\n",
       "                                 Pipeline(steps=[(&#x27;imputer&#x27;,\n",
       "                                                  SimpleImputer(strategy=&#x27;median&#x27;)),\n",
       "                                                 (&#x27;scaler&#x27;, StandardScaler())]),\n",
       "                                 array([&#x27;longitude&#x27;, &#x27;latitude&#x27;, &#x27;housing_median_age&#x27;, &#x27;total_rooms&#x27;,\n",
       "       &#x27;total_bedrooms&#x27;, &#x27;population&#x27;, &#x27;households&#x27;, &#x27;median_income&#x27;],\n",
       "      dtype=object)),\n",
       "                                (&#x27;col&#x27;,\n",
       "                                 Pipeline(steps=[(&#x27;one_hot&#x27;, OneHotEncoder())]),\n",
       "                                 [&#x27;ocean_proximity&#x27;])])</pre></div></div></div><div class=\"sk-parallel\"><div class=\"sk-parallel-item\"><div class=\"sk-item\"><div class=\"sk-label-container\"><div class=\"sk-label sk-toggleable\"><input class=\"sk-toggleable__control sk-hidden--visually\" id=\"sk-estimator-id-26\" type=\"checkbox\" ><label for=\"sk-estimator-id-26\" class=\"sk-toggleable__label sk-toggleable__label-arrow\">num</label><div class=\"sk-toggleable__content\"><pre>[&#x27;longitude&#x27; &#x27;latitude&#x27; &#x27;housing_median_age&#x27; &#x27;total_rooms&#x27;\n",
       " &#x27;total_bedrooms&#x27; &#x27;population&#x27; &#x27;households&#x27; &#x27;median_income&#x27;]</pre></div></div></div><div class=\"sk-serial\"><div class=\"sk-item\"><div class=\"sk-serial\"><div class=\"sk-item\"><div class=\"sk-estimator sk-toggleable\"><input class=\"sk-toggleable__control sk-hidden--visually\" id=\"sk-estimator-id-27\" type=\"checkbox\" ><label for=\"sk-estimator-id-27\" class=\"sk-toggleable__label sk-toggleable__label-arrow\">SimpleImputer</label><div class=\"sk-toggleable__content\"><pre>SimpleImputer(strategy=&#x27;median&#x27;)</pre></div></div></div><div class=\"sk-item\"><div class=\"sk-estimator sk-toggleable\"><input class=\"sk-toggleable__control sk-hidden--visually\" id=\"sk-estimator-id-28\" type=\"checkbox\" ><label for=\"sk-estimator-id-28\" class=\"sk-toggleable__label sk-toggleable__label-arrow\">StandardScaler</label><div class=\"sk-toggleable__content\"><pre>StandardScaler()</pre></div></div></div></div></div></div></div></div><div class=\"sk-parallel-item\"><div class=\"sk-item\"><div class=\"sk-label-container\"><div class=\"sk-label sk-toggleable\"><input class=\"sk-toggleable__control sk-hidden--visually\" id=\"sk-estimator-id-29\" type=\"checkbox\" ><label for=\"sk-estimator-id-29\" class=\"sk-toggleable__label sk-toggleable__label-arrow\">col</label><div class=\"sk-toggleable__content\"><pre>[&#x27;ocean_proximity&#x27;]</pre></div></div></div><div class=\"sk-serial\"><div class=\"sk-item\"><div class=\"sk-serial\"><div class=\"sk-item\"><div class=\"sk-estimator sk-toggleable\"><input class=\"sk-toggleable__control sk-hidden--visually\" id=\"sk-estimator-id-30\" type=\"checkbox\" ><label for=\"sk-estimator-id-30\" class=\"sk-toggleable__label sk-toggleable__label-arrow\">OneHotEncoder</label><div class=\"sk-toggleable__content\"><pre>OneHotEncoder()</pre></div></div></div></div></div></div></div></div></div></div><div class=\"sk-item\"><div class=\"sk-estimator sk-toggleable\"><input class=\"sk-toggleable__control sk-hidden--visually\" id=\"sk-estimator-id-31\" type=\"checkbox\" ><label for=\"sk-estimator-id-31\" class=\"sk-toggleable__label sk-toggleable__label-arrow\">KImportantFeatures</label><div class=\"sk-toggleable__content\"><pre>KImportantFeatures(K=5,\n",
       "                   importance_scores=array([5.15031491e-02, 4.64953753e-02, 1.84353388e-02, 3.51135968e-03,\n",
       "       1.39103301e-02, 4.53517613e-02, 1.46484281e-02, 6.87098556e-01,\n",
       "       1.02306354e-02, 6.84403012e-02, 1.21781760e-06, 3.35675664e-03,\n",
       "       7.30368499e-03]))</pre></div></div></div><div class=\"sk-item\"><div class=\"sk-estimator sk-toggleable\"><input class=\"sk-toggleable__control sk-hidden--visually\" id=\"sk-estimator-id-32\" type=\"checkbox\" ><label for=\"sk-estimator-id-32\" class=\"sk-toggleable__label sk-toggleable__label-arrow\">SVR</label><div class=\"sk-toggleable__content\"><pre>SVR(C=24, gamma=201, kernel=&#x27;linear&#x27;)</pre></div></div></div></div></div></div></div>"
      ],
      "text/plain": [
       "Pipeline(steps=[('full_pipeline',\n",
       "                 ColumnTransformer(transformers=[('num',\n",
       "                                                  Pipeline(steps=[('imputer',\n",
       "                                                                   SimpleImputer(strategy='median')),\n",
       "                                                                  ('scaler',\n",
       "                                                                   StandardScaler())]),\n",
       "                                                  array(['longitude', 'latitude', 'housing_median_age', 'total_rooms',\n",
       "       'total_bedrooms', 'population', 'households', 'median_income'],\n",
       "      dtype=object)),\n",
       "                                                 ('col',\n",
       "                                                  Pipeline(steps=[('one_hot',\n",
       "                                                                   OneHotEncoder())]),\n",
       "                                                  ['ocean_proximity'])])),\n",
       "                ('feature_selection',\n",
       "                 KImportantFeatures(K=5,\n",
       "                                    importance_scores=array([5.15031491e-02, 4.64953753e-02, 1.84353388e-02, 3.51135968e-03,\n",
       "       1.39103301e-02, 4.53517613e-02, 1.46484281e-02, 6.87098556e-01,\n",
       "       1.02306354e-02, 6.84403012e-02, 1.21781760e-06, 3.35675664e-03,\n",
       "       7.30368499e-03]))),\n",
       "                ('prediction', SVR(C=24, gamma=201, kernel='linear'))])"
      ]
     },
     "execution_count": 102,
     "metadata": {},
     "output_type": "execute_result"
    }
   ],
   "source": [
    "prediction_pipeline = Pipeline([\n",
    "    ('full_pipeline', c_transformer1),\n",
    "    ('feature_selection', KImportantFeatures(importance_scores.importances_mean,5)),\n",
    "    ('prediction',SVR(**rndm_model.best_params_))\n",
    "])\n",
    "prediction_pipeline.fit(X,y_train)"
   ]
  },
  {
   "cell_type": "code",
   "execution_count": 107,
   "id": "c25f87b8-e9f9-471e-801f-e168a0008d39",
   "metadata": {},
   "outputs": [
    {
     "name": "stdout",
     "output_type": "stream",
     "text": [
      "79060.0372833078\n"
     ]
    }
   ],
   "source": [
    "print(np.sqrt(mean_squared_error(y_train,prediction_pipeline.predict(X) )))"
   ]
  },
  {
   "cell_type": "markdown",
   "id": "064c2c82-8737-499d-ae05-a90274c314f0",
   "metadata": {},
   "source": [
    "We are getting a similar sort of score as we were getting below even after using only 5 important features. Therefore we can use this pipeline as our final pipeline for prediction of any new data."
   ]
  },
  {
   "cell_type": "code",
   "execution_count": null,
   "id": "62ddc5f5-c8ec-456a-a38b-1fbd450840e7",
   "metadata": {},
   "outputs": [],
   "source": []
  }
 ],
 "metadata": {
  "kernelspec": {
   "display_name": "Python 3 (ipykernel)",
   "language": "python",
   "name": "python3"
  },
  "language_info": {
   "codemirror_mode": {
    "name": "ipython",
    "version": 3
   },
   "file_extension": ".py",
   "mimetype": "text/x-python",
   "name": "python",
   "nbconvert_exporter": "python",
   "pygments_lexer": "ipython3",
   "version": "3.11.5"
  }
 },
 "nbformat": 4,
 "nbformat_minor": 5
}
